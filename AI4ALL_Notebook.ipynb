{
  "nbformat": 4,
  "nbformat_minor": 0,
  "metadata": {
    "colab": {
      "provenance": [],
      "include_colab_link": true
    },
    "kernelspec": {
      "name": "python3",
      "display_name": "Python 3"
    },
    "language_info": {
      "name": "python"
    }
  },
  "cells": [
    {
      "cell_type": "markdown",
      "metadata": {
        "id": "view-in-github",
        "colab_type": "text"
      },
      "source": [
        "<a href=\"https://colab.research.google.com/github/lennythecreator/AI-Model/blob/main/AI4ALL_Notebook.ipynb\" target=\"_parent\"><img src=\"https://colab.research.google.com/assets/colab-badge.svg\" alt=\"Open In Colab\"/></a>"
      ]
    },
    {
      "cell_type": "code",
      "source": [
        "from google.colab import drive\n",
        "drive.mount('/content/drive')"
      ],
      "metadata": {
        "id": "yB0EOodl-fEE",
        "colab": {
          "base_uri": "https://localhost:8080/"
        },
        "outputId": "84bde694-cc1d-4d01-c62c-c1d806b2b609"
      },
      "execution_count": 1,
      "outputs": [
        {
          "output_type": "stream",
          "name": "stdout",
          "text": [
            "Mounted at /content/drive\n"
          ]
        }
      ]
    },
    {
      "cell_type": "markdown",
      "source": [
        "#Identifying Factors that contribute to gentrification"
      ],
      "metadata": {
        "id": "Ip7UMNV33h9M"
      }
    },
    {
      "cell_type": "markdown",
      "source": [
        "##Exploring our data set"
      ],
      "metadata": {
        "id": "hDr6W9aq3cYm"
      }
    },
    {
      "cell_type": "code",
      "execution_count": 2,
      "metadata": {
        "id": "L4Y6u42vuatU",
        "colab": {
          "base_uri": "https://localhost:8080/",
          "height": 424
        },
        "outputId": "4384c66a-c1ab-49bc-e0da-8573e623387d"
      },
      "outputs": [
        {
          "output_type": "execute_result",
          "data": {
            "text/plain": [
              "       HHAGE  HHOLDKIDS  HHYNGKIDS  HHGRAD  HHMAR   HINCP  HHNATVTY  HHSEX  \\\n",
              "0         74          0          0      47      1   74030        57      1   \n",
              "1         55          0          0      44      1  147000        57      1   \n",
              "2         -6         -6         -6      -6     -6      -6        -6     -6   \n",
              "3         80          0          0      39      3    1920        57      2   \n",
              "4         60          0          0      45      1  129000        57      1   \n",
              "...      ...        ...        ...     ...    ...     ...       ...    ...   \n",
              "64136     -6         -6         -6      -6     -6      -6        -6     -6   \n",
              "64137     44          0          0      39      1  125000        57      2   \n",
              "64138     -6         -6         -6      -6     -6      -6        -6     -6   \n",
              "64139     23          0          0      44      6       0        57      1   \n",
              "64140     27          0          0      44      1  205000        57      1   \n",
              "\n",
              "       SAMESEXHH  HHRACE  HHCITSHP  \n",
              "0              2       1         1  \n",
              "1              2       1         1  \n",
              "2             -6      -6        -6  \n",
              "3              2       1         1  \n",
              "4              2       1         1  \n",
              "...          ...     ...       ...  \n",
              "64136         -6      -6        -6  \n",
              "64137          1       1         1  \n",
              "64138         -6      -6        -6  \n",
              "64139          2       1         1  \n",
              "64140          2       1         1  \n",
              "\n",
              "[64141 rows x 11 columns]"
            ],
            "text/html": [
              "\n",
              "  <div id=\"df-eae0bdee-05f4-4639-b9a0-8704856a9dd9\" class=\"colab-df-container\">\n",
              "    <div>\n",
              "<style scoped>\n",
              "    .dataframe tbody tr th:only-of-type {\n",
              "        vertical-align: middle;\n",
              "    }\n",
              "\n",
              "    .dataframe tbody tr th {\n",
              "        vertical-align: top;\n",
              "    }\n",
              "\n",
              "    .dataframe thead th {\n",
              "        text-align: right;\n",
              "    }\n",
              "</style>\n",
              "<table border=\"1\" class=\"dataframe\">\n",
              "  <thead>\n",
              "    <tr style=\"text-align: right;\">\n",
              "      <th></th>\n",
              "      <th>HHAGE</th>\n",
              "      <th>HHOLDKIDS</th>\n",
              "      <th>HHYNGKIDS</th>\n",
              "      <th>HHGRAD</th>\n",
              "      <th>HHMAR</th>\n",
              "      <th>HINCP</th>\n",
              "      <th>HHNATVTY</th>\n",
              "      <th>HHSEX</th>\n",
              "      <th>SAMESEXHH</th>\n",
              "      <th>HHRACE</th>\n",
              "      <th>HHCITSHP</th>\n",
              "    </tr>\n",
              "  </thead>\n",
              "  <tbody>\n",
              "    <tr>\n",
              "      <th>0</th>\n",
              "      <td>74</td>\n",
              "      <td>0</td>\n",
              "      <td>0</td>\n",
              "      <td>47</td>\n",
              "      <td>1</td>\n",
              "      <td>74030</td>\n",
              "      <td>57</td>\n",
              "      <td>1</td>\n",
              "      <td>2</td>\n",
              "      <td>1</td>\n",
              "      <td>1</td>\n",
              "    </tr>\n",
              "    <tr>\n",
              "      <th>1</th>\n",
              "      <td>55</td>\n",
              "      <td>0</td>\n",
              "      <td>0</td>\n",
              "      <td>44</td>\n",
              "      <td>1</td>\n",
              "      <td>147000</td>\n",
              "      <td>57</td>\n",
              "      <td>1</td>\n",
              "      <td>2</td>\n",
              "      <td>1</td>\n",
              "      <td>1</td>\n",
              "    </tr>\n",
              "    <tr>\n",
              "      <th>2</th>\n",
              "      <td>-6</td>\n",
              "      <td>-6</td>\n",
              "      <td>-6</td>\n",
              "      <td>-6</td>\n",
              "      <td>-6</td>\n",
              "      <td>-6</td>\n",
              "      <td>-6</td>\n",
              "      <td>-6</td>\n",
              "      <td>-6</td>\n",
              "      <td>-6</td>\n",
              "      <td>-6</td>\n",
              "    </tr>\n",
              "    <tr>\n",
              "      <th>3</th>\n",
              "      <td>80</td>\n",
              "      <td>0</td>\n",
              "      <td>0</td>\n",
              "      <td>39</td>\n",
              "      <td>3</td>\n",
              "      <td>1920</td>\n",
              "      <td>57</td>\n",
              "      <td>2</td>\n",
              "      <td>2</td>\n",
              "      <td>1</td>\n",
              "      <td>1</td>\n",
              "    </tr>\n",
              "    <tr>\n",
              "      <th>4</th>\n",
              "      <td>60</td>\n",
              "      <td>0</td>\n",
              "      <td>0</td>\n",
              "      <td>45</td>\n",
              "      <td>1</td>\n",
              "      <td>129000</td>\n",
              "      <td>57</td>\n",
              "      <td>1</td>\n",
              "      <td>2</td>\n",
              "      <td>1</td>\n",
              "      <td>1</td>\n",
              "    </tr>\n",
              "    <tr>\n",
              "      <th>...</th>\n",
              "      <td>...</td>\n",
              "      <td>...</td>\n",
              "      <td>...</td>\n",
              "      <td>...</td>\n",
              "      <td>...</td>\n",
              "      <td>...</td>\n",
              "      <td>...</td>\n",
              "      <td>...</td>\n",
              "      <td>...</td>\n",
              "      <td>...</td>\n",
              "      <td>...</td>\n",
              "    </tr>\n",
              "    <tr>\n",
              "      <th>64136</th>\n",
              "      <td>-6</td>\n",
              "      <td>-6</td>\n",
              "      <td>-6</td>\n",
              "      <td>-6</td>\n",
              "      <td>-6</td>\n",
              "      <td>-6</td>\n",
              "      <td>-6</td>\n",
              "      <td>-6</td>\n",
              "      <td>-6</td>\n",
              "      <td>-6</td>\n",
              "      <td>-6</td>\n",
              "    </tr>\n",
              "    <tr>\n",
              "      <th>64137</th>\n",
              "      <td>44</td>\n",
              "      <td>0</td>\n",
              "      <td>0</td>\n",
              "      <td>39</td>\n",
              "      <td>1</td>\n",
              "      <td>125000</td>\n",
              "      <td>57</td>\n",
              "      <td>2</td>\n",
              "      <td>1</td>\n",
              "      <td>1</td>\n",
              "      <td>1</td>\n",
              "    </tr>\n",
              "    <tr>\n",
              "      <th>64138</th>\n",
              "      <td>-6</td>\n",
              "      <td>-6</td>\n",
              "      <td>-6</td>\n",
              "      <td>-6</td>\n",
              "      <td>-6</td>\n",
              "      <td>-6</td>\n",
              "      <td>-6</td>\n",
              "      <td>-6</td>\n",
              "      <td>-6</td>\n",
              "      <td>-6</td>\n",
              "      <td>-6</td>\n",
              "    </tr>\n",
              "    <tr>\n",
              "      <th>64139</th>\n",
              "      <td>23</td>\n",
              "      <td>0</td>\n",
              "      <td>0</td>\n",
              "      <td>44</td>\n",
              "      <td>6</td>\n",
              "      <td>0</td>\n",
              "      <td>57</td>\n",
              "      <td>1</td>\n",
              "      <td>2</td>\n",
              "      <td>1</td>\n",
              "      <td>1</td>\n",
              "    </tr>\n",
              "    <tr>\n",
              "      <th>64140</th>\n",
              "      <td>27</td>\n",
              "      <td>0</td>\n",
              "      <td>0</td>\n",
              "      <td>44</td>\n",
              "      <td>1</td>\n",
              "      <td>205000</td>\n",
              "      <td>57</td>\n",
              "      <td>1</td>\n",
              "      <td>2</td>\n",
              "      <td>1</td>\n",
              "      <td>1</td>\n",
              "    </tr>\n",
              "  </tbody>\n",
              "</table>\n",
              "<p>64141 rows × 11 columns</p>\n",
              "</div>\n",
              "    <div class=\"colab-df-buttons\">\n",
              "\n",
              "  <div class=\"colab-df-container\">\n",
              "    <button class=\"colab-df-convert\" onclick=\"convertToInteractive('df-eae0bdee-05f4-4639-b9a0-8704856a9dd9')\"\n",
              "            title=\"Convert this dataframe to an interactive table.\"\n",
              "            style=\"display:none;\">\n",
              "\n",
              "  <svg xmlns=\"http://www.w3.org/2000/svg\" height=\"24px\" viewBox=\"0 -960 960 960\">\n",
              "    <path d=\"M120-120v-720h720v720H120Zm60-500h600v-160H180v160Zm220 220h160v-160H400v160Zm0 220h160v-160H400v160ZM180-400h160v-160H180v160Zm440 0h160v-160H620v160ZM180-180h160v-160H180v160Zm440 0h160v-160H620v160Z\"/>\n",
              "  </svg>\n",
              "    </button>\n",
              "\n",
              "  <style>\n",
              "    .colab-df-container {\n",
              "      display:flex;\n",
              "      gap: 12px;\n",
              "    }\n",
              "\n",
              "    .colab-df-convert {\n",
              "      background-color: #E8F0FE;\n",
              "      border: none;\n",
              "      border-radius: 50%;\n",
              "      cursor: pointer;\n",
              "      display: none;\n",
              "      fill: #1967D2;\n",
              "      height: 32px;\n",
              "      padding: 0 0 0 0;\n",
              "      width: 32px;\n",
              "    }\n",
              "\n",
              "    .colab-df-convert:hover {\n",
              "      background-color: #E2EBFA;\n",
              "      box-shadow: 0px 1px 2px rgba(60, 64, 67, 0.3), 0px 1px 3px 1px rgba(60, 64, 67, 0.15);\n",
              "      fill: #174EA6;\n",
              "    }\n",
              "\n",
              "    .colab-df-buttons div {\n",
              "      margin-bottom: 4px;\n",
              "    }\n",
              "\n",
              "    [theme=dark] .colab-df-convert {\n",
              "      background-color: #3B4455;\n",
              "      fill: #D2E3FC;\n",
              "    }\n",
              "\n",
              "    [theme=dark] .colab-df-convert:hover {\n",
              "      background-color: #434B5C;\n",
              "      box-shadow: 0px 1px 3px 1px rgba(0, 0, 0, 0.15);\n",
              "      filter: drop-shadow(0px 1px 2px rgba(0, 0, 0, 0.3));\n",
              "      fill: #FFFFFF;\n",
              "    }\n",
              "  </style>\n",
              "\n",
              "    <script>\n",
              "      const buttonEl =\n",
              "        document.querySelector('#df-eae0bdee-05f4-4639-b9a0-8704856a9dd9 button.colab-df-convert');\n",
              "      buttonEl.style.display =\n",
              "        google.colab.kernel.accessAllowed ? 'block' : 'none';\n",
              "\n",
              "      async function convertToInteractive(key) {\n",
              "        const element = document.querySelector('#df-eae0bdee-05f4-4639-b9a0-8704856a9dd9');\n",
              "        const dataTable =\n",
              "          await google.colab.kernel.invokeFunction('convertToInteractive',\n",
              "                                                    [key], {});\n",
              "        if (!dataTable) return;\n",
              "\n",
              "        const docLinkHtml = 'Like what you see? Visit the ' +\n",
              "          '<a target=\"_blank\" href=https://colab.research.google.com/notebooks/data_table.ipynb>data table notebook</a>'\n",
              "          + ' to learn more about interactive tables.';\n",
              "        element.innerHTML = '';\n",
              "        dataTable['output_type'] = 'display_data';\n",
              "        await google.colab.output.renderOutput(dataTable, element);\n",
              "        const docLink = document.createElement('div');\n",
              "        docLink.innerHTML = docLinkHtml;\n",
              "        element.appendChild(docLink);\n",
              "      }\n",
              "    </script>\n",
              "  </div>\n",
              "\n",
              "\n",
              "<div id=\"df-8c3710d0-98b9-444c-a8e8-730a7aac37a4\">\n",
              "  <button class=\"colab-df-quickchart\" onclick=\"quickchart('df-8c3710d0-98b9-444c-a8e8-730a7aac37a4')\"\n",
              "            title=\"Suggest charts\"\n",
              "            style=\"display:none;\">\n",
              "\n",
              "<svg xmlns=\"http://www.w3.org/2000/svg\" height=\"24px\"viewBox=\"0 0 24 24\"\n",
              "     width=\"24px\">\n",
              "    <g>\n",
              "        <path d=\"M19 3H5c-1.1 0-2 .9-2 2v14c0 1.1.9 2 2 2h14c1.1 0 2-.9 2-2V5c0-1.1-.9-2-2-2zM9 17H7v-7h2v7zm4 0h-2V7h2v10zm4 0h-2v-4h2v4z\"/>\n",
              "    </g>\n",
              "</svg>\n",
              "  </button>\n",
              "\n",
              "<style>\n",
              "  .colab-df-quickchart {\n",
              "      --bg-color: #E8F0FE;\n",
              "      --fill-color: #1967D2;\n",
              "      --hover-bg-color: #E2EBFA;\n",
              "      --hover-fill-color: #174EA6;\n",
              "      --disabled-fill-color: #AAA;\n",
              "      --disabled-bg-color: #DDD;\n",
              "  }\n",
              "\n",
              "  [theme=dark] .colab-df-quickchart {\n",
              "      --bg-color: #3B4455;\n",
              "      --fill-color: #D2E3FC;\n",
              "      --hover-bg-color: #434B5C;\n",
              "      --hover-fill-color: #FFFFFF;\n",
              "      --disabled-bg-color: #3B4455;\n",
              "      --disabled-fill-color: #666;\n",
              "  }\n",
              "\n",
              "  .colab-df-quickchart {\n",
              "    background-color: var(--bg-color);\n",
              "    border: none;\n",
              "    border-radius: 50%;\n",
              "    cursor: pointer;\n",
              "    display: none;\n",
              "    fill: var(--fill-color);\n",
              "    height: 32px;\n",
              "    padding: 0;\n",
              "    width: 32px;\n",
              "  }\n",
              "\n",
              "  .colab-df-quickchart:hover {\n",
              "    background-color: var(--hover-bg-color);\n",
              "    box-shadow: 0 1px 2px rgba(60, 64, 67, 0.3), 0 1px 3px 1px rgba(60, 64, 67, 0.15);\n",
              "    fill: var(--button-hover-fill-color);\n",
              "  }\n",
              "\n",
              "  .colab-df-quickchart-complete:disabled,\n",
              "  .colab-df-quickchart-complete:disabled:hover {\n",
              "    background-color: var(--disabled-bg-color);\n",
              "    fill: var(--disabled-fill-color);\n",
              "    box-shadow: none;\n",
              "  }\n",
              "\n",
              "  .colab-df-spinner {\n",
              "    border: 2px solid var(--fill-color);\n",
              "    border-color: transparent;\n",
              "    border-bottom-color: var(--fill-color);\n",
              "    animation:\n",
              "      spin 1s steps(1) infinite;\n",
              "  }\n",
              "\n",
              "  @keyframes spin {\n",
              "    0% {\n",
              "      border-color: transparent;\n",
              "      border-bottom-color: var(--fill-color);\n",
              "      border-left-color: var(--fill-color);\n",
              "    }\n",
              "    20% {\n",
              "      border-color: transparent;\n",
              "      border-left-color: var(--fill-color);\n",
              "      border-top-color: var(--fill-color);\n",
              "    }\n",
              "    30% {\n",
              "      border-color: transparent;\n",
              "      border-left-color: var(--fill-color);\n",
              "      border-top-color: var(--fill-color);\n",
              "      border-right-color: var(--fill-color);\n",
              "    }\n",
              "    40% {\n",
              "      border-color: transparent;\n",
              "      border-right-color: var(--fill-color);\n",
              "      border-top-color: var(--fill-color);\n",
              "    }\n",
              "    60% {\n",
              "      border-color: transparent;\n",
              "      border-right-color: var(--fill-color);\n",
              "    }\n",
              "    80% {\n",
              "      border-color: transparent;\n",
              "      border-right-color: var(--fill-color);\n",
              "      border-bottom-color: var(--fill-color);\n",
              "    }\n",
              "    90% {\n",
              "      border-color: transparent;\n",
              "      border-bottom-color: var(--fill-color);\n",
              "    }\n",
              "  }\n",
              "</style>\n",
              "\n",
              "  <script>\n",
              "    async function quickchart(key) {\n",
              "      const quickchartButtonEl =\n",
              "        document.querySelector('#' + key + ' button');\n",
              "      quickchartButtonEl.disabled = true;  // To prevent multiple clicks.\n",
              "      quickchartButtonEl.classList.add('colab-df-spinner');\n",
              "      try {\n",
              "        const charts = await google.colab.kernel.invokeFunction(\n",
              "            'suggestCharts', [key], {});\n",
              "      } catch (error) {\n",
              "        console.error('Error during call to suggestCharts:', error);\n",
              "      }\n",
              "      quickchartButtonEl.classList.remove('colab-df-spinner');\n",
              "      quickchartButtonEl.classList.add('colab-df-quickchart-complete');\n",
              "    }\n",
              "    (() => {\n",
              "      let quickchartButtonEl =\n",
              "        document.querySelector('#df-8c3710d0-98b9-444c-a8e8-730a7aac37a4 button');\n",
              "      quickchartButtonEl.style.display =\n",
              "        google.colab.kernel.accessAllowed ? 'block' : 'none';\n",
              "    })();\n",
              "  </script>\n",
              "</div>\n",
              "    </div>\n",
              "  </div>\n"
            ],
            "application/vnd.google.colaboratory.intrinsic+json": {
              "type": "dataframe",
              "variable_name": "data_set",
              "summary": "{\n  \"name\": \"data_set\",\n  \"rows\": 64141,\n  \"fields\": [\n    {\n      \"column\": \"HHAGE\",\n      \"properties\": {\n        \"dtype\": \"number\",\n        \"std\": 25,\n        \"min\": -6,\n        \"max\": 85,\n        \"num_unique_values\": 68,\n        \"samples\": [\n          19,\n          62,\n          60\n        ],\n        \"semantic_type\": \"\",\n        \"description\": \"\"\n      }\n    },\n    {\n      \"column\": \"HHOLDKIDS\",\n      \"properties\": {\n        \"dtype\": \"number\",\n        \"std\": 2,\n        \"min\": -6,\n        \"max\": 15,\n        \"num_unique_values\": 11,\n        \"samples\": [\n          5,\n          0,\n          15\n        ],\n        \"semantic_type\": \"\",\n        \"description\": \"\"\n      }\n    },\n    {\n      \"column\": \"HHYNGKIDS\",\n      \"properties\": {\n        \"dtype\": \"number\",\n        \"std\": 2,\n        \"min\": -6,\n        \"max\": 5,\n        \"num_unique_values\": 7,\n        \"samples\": [\n          0,\n          -6,\n          4\n        ],\n        \"semantic_type\": \"\",\n        \"description\": \"\"\n      }\n    },\n    {\n      \"column\": \"HHGRAD\",\n      \"properties\": {\n        \"dtype\": \"number\",\n        \"std\": 15,\n        \"min\": -6,\n        \"max\": 47,\n        \"num_unique_values\": 18,\n        \"samples\": [\n          47,\n          44,\n          34\n        ],\n        \"semantic_type\": \"\",\n        \"description\": \"\"\n      }\n    },\n    {\n      \"column\": \"HHMAR\",\n      \"properties\": {\n        \"dtype\": \"number\",\n        \"std\": 3,\n        \"min\": -6,\n        \"max\": 6,\n        \"num_unique_values\": 7,\n        \"samples\": [\n          1,\n          -6,\n          2\n        ],\n        \"semantic_type\": \"\",\n        \"description\": \"\"\n      }\n    },\n    {\n      \"column\": \"HINCP\",\n      \"properties\": {\n        \"dtype\": \"number\",\n        \"std\": 109037,\n        \"min\": -10000,\n        \"max\": 4604000,\n        \"num_unique_values\": 7201,\n        \"samples\": [\n          74210,\n          59350,\n          91200\n        ],\n        \"semantic_type\": \"\",\n        \"description\": \"\"\n      }\n    },\n    {\n      \"column\": \"HHNATVTY\",\n      \"properties\": {\n        \"dtype\": \"number\",\n        \"std\": 95,\n        \"min\": -6,\n        \"max\": 555,\n        \"num_unique_values\": 160,\n        \"samples\": [\n          165,\n          103,\n          457\n        ],\n        \"semantic_type\": \"\",\n        \"description\": \"\"\n      }\n    },\n    {\n      \"column\": \"HHSEX\",\n      \"properties\": {\n        \"dtype\": \"number\",\n        \"std\": 2,\n        \"min\": -6,\n        \"max\": 2,\n        \"num_unique_values\": 3,\n        \"samples\": [\n          1,\n          -6,\n          2\n        ],\n        \"semantic_type\": \"\",\n        \"description\": \"\"\n      }\n    },\n    {\n      \"column\": \"SAMESEXHH\",\n      \"properties\": {\n        \"dtype\": \"number\",\n        \"std\": 2,\n        \"min\": -6,\n        \"max\": 2,\n        \"num_unique_values\": 3,\n        \"samples\": [\n          2,\n          -6,\n          1\n        ],\n        \"semantic_type\": \"\",\n        \"description\": \"\"\n      }\n    },\n    {\n      \"column\": \"HHRACE\",\n      \"properties\": {\n        \"dtype\": \"number\",\n        \"std\": 2,\n        \"min\": -6,\n        \"max\": 20,\n        \"num_unique_values\": 21,\n        \"samples\": [\n          1,\n          13,\n          11\n        ],\n        \"semantic_type\": \"\",\n        \"description\": \"\"\n      }\n    },\n    {\n      \"column\": \"HHCITSHP\",\n      \"properties\": {\n        \"dtype\": \"number\",\n        \"std\": 2,\n        \"min\": -6,\n        \"max\": 5,\n        \"num_unique_values\": 6,\n        \"samples\": [\n          1,\n          -6,\n          2\n        ],\n        \"semantic_type\": \"\",\n        \"description\": \"\"\n      }\n    }\n  ]\n}"
            }
          },
          "metadata": {},
          "execution_count": 2
        }
      ],
      "source": [
        "import pandas as pd\n",
        "import numpy as np\n",
        "import matplotlib.pyplot as plt\n",
        "import seaborn as sns\n",
        "\n",
        "from sklearn.model_selection import train_test_split\n",
        "from sklearn.linear_model import LinearRegression\n",
        "from sklearn.metrics import mean_squared_error\n",
        "from sklearn.metrics import mean_absolute_error, r2_score\n",
        "from sklearn.linear_model import LogisticRegression\n",
        "from sklearn.metrics import accuracy_score, precision_score, recall_score, f1_score, confusion_matrix\n",
        "\n",
        "data = \"/content/drive/Shareddrives/AI4ALL/Cleaned Data Set - People - Cleaned.csv\"\n",
        "data2 = \"/content/drive/Shareddrives/AI4ALL/Cleaned Data Set - House - Cleaned.csv\"\n",
        "\n",
        "data3= \"/content/drive/Shareddrives/AI4ALL/ahs2021m.csv\"\n",
        "\n",
        "merged_data = \"/content/drive/Shareddrives/AI4ALL/Merged Data Set - Cleaned.csv\"\n",
        "\n",
        "\n",
        "data_set = pd.read_csv(data)\n",
        "data_set2 = pd.read_csv(data2)\n",
        "\n",
        "#merged_data = pd.merge(data_set,data_set2)\n",
        "#merged_data\n",
        "data_set\n"
      ]
    },
    {
      "cell_type": "code",
      "source": [
        "data_set2 = pd.read_csv(data2)\n",
        "data_set2.head(10)"
      ],
      "metadata": {
        "id": "3ye8WIA-PS0L",
        "colab": {
          "base_uri": "https://localhost:8080/",
          "height": 363
        },
        "outputId": "942e3ba1-84b3-4bcb-fa63-233fc2a871e4"
      },
      "execution_count": 3,
      "outputs": [
        {
          "output_type": "execute_result",
          "data": {
            "text/plain": [
              "   VACANCY  FS  YRBUILT  REMODAMT  BLD  TENURE  DBMISSRENT  DBUTBILL\n",
              "0       -6   2     1970     19900    2       1          -6         4\n",
              "1       -6   2     1960     15100    2       1          -6         4\n",
              "2       10  -6     1970        -6    2      -6          -6        -6\n",
              "3       -6   1     1970        -6    2       2           5         4\n",
              "4       -6   2     1980      3650    2       1          -6         4\n",
              "5       -6   2     1980       750    2       1          -6         4\n",
              "6        7  -6     1950        -6    3      -6          -6        -6\n",
              "7        6  -6     1980        -6    2      -6          -6        -6\n",
              "8       -6  -6     1990       300    2       1          -6         4\n",
              "9       -6   2     1990        -6    6       2           1         2"
            ],
            "text/html": [
              "\n",
              "  <div id=\"df-74be0727-27fc-4bae-9986-a9249a7c8819\" class=\"colab-df-container\">\n",
              "    <div>\n",
              "<style scoped>\n",
              "    .dataframe tbody tr th:only-of-type {\n",
              "        vertical-align: middle;\n",
              "    }\n",
              "\n",
              "    .dataframe tbody tr th {\n",
              "        vertical-align: top;\n",
              "    }\n",
              "\n",
              "    .dataframe thead th {\n",
              "        text-align: right;\n",
              "    }\n",
              "</style>\n",
              "<table border=\"1\" class=\"dataframe\">\n",
              "  <thead>\n",
              "    <tr style=\"text-align: right;\">\n",
              "      <th></th>\n",
              "      <th>VACANCY</th>\n",
              "      <th>FS</th>\n",
              "      <th>YRBUILT</th>\n",
              "      <th>REMODAMT</th>\n",
              "      <th>BLD</th>\n",
              "      <th>TENURE</th>\n",
              "      <th>DBMISSRENT</th>\n",
              "      <th>DBUTBILL</th>\n",
              "    </tr>\n",
              "  </thead>\n",
              "  <tbody>\n",
              "    <tr>\n",
              "      <th>0</th>\n",
              "      <td>-6</td>\n",
              "      <td>2</td>\n",
              "      <td>1970</td>\n",
              "      <td>19900</td>\n",
              "      <td>2</td>\n",
              "      <td>1</td>\n",
              "      <td>-6</td>\n",
              "      <td>4</td>\n",
              "    </tr>\n",
              "    <tr>\n",
              "      <th>1</th>\n",
              "      <td>-6</td>\n",
              "      <td>2</td>\n",
              "      <td>1960</td>\n",
              "      <td>15100</td>\n",
              "      <td>2</td>\n",
              "      <td>1</td>\n",
              "      <td>-6</td>\n",
              "      <td>4</td>\n",
              "    </tr>\n",
              "    <tr>\n",
              "      <th>2</th>\n",
              "      <td>10</td>\n",
              "      <td>-6</td>\n",
              "      <td>1970</td>\n",
              "      <td>-6</td>\n",
              "      <td>2</td>\n",
              "      <td>-6</td>\n",
              "      <td>-6</td>\n",
              "      <td>-6</td>\n",
              "    </tr>\n",
              "    <tr>\n",
              "      <th>3</th>\n",
              "      <td>-6</td>\n",
              "      <td>1</td>\n",
              "      <td>1970</td>\n",
              "      <td>-6</td>\n",
              "      <td>2</td>\n",
              "      <td>2</td>\n",
              "      <td>5</td>\n",
              "      <td>4</td>\n",
              "    </tr>\n",
              "    <tr>\n",
              "      <th>4</th>\n",
              "      <td>-6</td>\n",
              "      <td>2</td>\n",
              "      <td>1980</td>\n",
              "      <td>3650</td>\n",
              "      <td>2</td>\n",
              "      <td>1</td>\n",
              "      <td>-6</td>\n",
              "      <td>4</td>\n",
              "    </tr>\n",
              "    <tr>\n",
              "      <th>5</th>\n",
              "      <td>-6</td>\n",
              "      <td>2</td>\n",
              "      <td>1980</td>\n",
              "      <td>750</td>\n",
              "      <td>2</td>\n",
              "      <td>1</td>\n",
              "      <td>-6</td>\n",
              "      <td>4</td>\n",
              "    </tr>\n",
              "    <tr>\n",
              "      <th>6</th>\n",
              "      <td>7</td>\n",
              "      <td>-6</td>\n",
              "      <td>1950</td>\n",
              "      <td>-6</td>\n",
              "      <td>3</td>\n",
              "      <td>-6</td>\n",
              "      <td>-6</td>\n",
              "      <td>-6</td>\n",
              "    </tr>\n",
              "    <tr>\n",
              "      <th>7</th>\n",
              "      <td>6</td>\n",
              "      <td>-6</td>\n",
              "      <td>1980</td>\n",
              "      <td>-6</td>\n",
              "      <td>2</td>\n",
              "      <td>-6</td>\n",
              "      <td>-6</td>\n",
              "      <td>-6</td>\n",
              "    </tr>\n",
              "    <tr>\n",
              "      <th>8</th>\n",
              "      <td>-6</td>\n",
              "      <td>-6</td>\n",
              "      <td>1990</td>\n",
              "      <td>300</td>\n",
              "      <td>2</td>\n",
              "      <td>1</td>\n",
              "      <td>-6</td>\n",
              "      <td>4</td>\n",
              "    </tr>\n",
              "    <tr>\n",
              "      <th>9</th>\n",
              "      <td>-6</td>\n",
              "      <td>2</td>\n",
              "      <td>1990</td>\n",
              "      <td>-6</td>\n",
              "      <td>6</td>\n",
              "      <td>2</td>\n",
              "      <td>1</td>\n",
              "      <td>2</td>\n",
              "    </tr>\n",
              "  </tbody>\n",
              "</table>\n",
              "</div>\n",
              "    <div class=\"colab-df-buttons\">\n",
              "\n",
              "  <div class=\"colab-df-container\">\n",
              "    <button class=\"colab-df-convert\" onclick=\"convertToInteractive('df-74be0727-27fc-4bae-9986-a9249a7c8819')\"\n",
              "            title=\"Convert this dataframe to an interactive table.\"\n",
              "            style=\"display:none;\">\n",
              "\n",
              "  <svg xmlns=\"http://www.w3.org/2000/svg\" height=\"24px\" viewBox=\"0 -960 960 960\">\n",
              "    <path d=\"M120-120v-720h720v720H120Zm60-500h600v-160H180v160Zm220 220h160v-160H400v160Zm0 220h160v-160H400v160ZM180-400h160v-160H180v160Zm440 0h160v-160H620v160ZM180-180h160v-160H180v160Zm440 0h160v-160H620v160Z\"/>\n",
              "  </svg>\n",
              "    </button>\n",
              "\n",
              "  <style>\n",
              "    .colab-df-container {\n",
              "      display:flex;\n",
              "      gap: 12px;\n",
              "    }\n",
              "\n",
              "    .colab-df-convert {\n",
              "      background-color: #E8F0FE;\n",
              "      border: none;\n",
              "      border-radius: 50%;\n",
              "      cursor: pointer;\n",
              "      display: none;\n",
              "      fill: #1967D2;\n",
              "      height: 32px;\n",
              "      padding: 0 0 0 0;\n",
              "      width: 32px;\n",
              "    }\n",
              "\n",
              "    .colab-df-convert:hover {\n",
              "      background-color: #E2EBFA;\n",
              "      box-shadow: 0px 1px 2px rgba(60, 64, 67, 0.3), 0px 1px 3px 1px rgba(60, 64, 67, 0.15);\n",
              "      fill: #174EA6;\n",
              "    }\n",
              "\n",
              "    .colab-df-buttons div {\n",
              "      margin-bottom: 4px;\n",
              "    }\n",
              "\n",
              "    [theme=dark] .colab-df-convert {\n",
              "      background-color: #3B4455;\n",
              "      fill: #D2E3FC;\n",
              "    }\n",
              "\n",
              "    [theme=dark] .colab-df-convert:hover {\n",
              "      background-color: #434B5C;\n",
              "      box-shadow: 0px 1px 3px 1px rgba(0, 0, 0, 0.15);\n",
              "      filter: drop-shadow(0px 1px 2px rgba(0, 0, 0, 0.3));\n",
              "      fill: #FFFFFF;\n",
              "    }\n",
              "  </style>\n",
              "\n",
              "    <script>\n",
              "      const buttonEl =\n",
              "        document.querySelector('#df-74be0727-27fc-4bae-9986-a9249a7c8819 button.colab-df-convert');\n",
              "      buttonEl.style.display =\n",
              "        google.colab.kernel.accessAllowed ? 'block' : 'none';\n",
              "\n",
              "      async function convertToInteractive(key) {\n",
              "        const element = document.querySelector('#df-74be0727-27fc-4bae-9986-a9249a7c8819');\n",
              "        const dataTable =\n",
              "          await google.colab.kernel.invokeFunction('convertToInteractive',\n",
              "                                                    [key], {});\n",
              "        if (!dataTable) return;\n",
              "\n",
              "        const docLinkHtml = 'Like what you see? Visit the ' +\n",
              "          '<a target=\"_blank\" href=https://colab.research.google.com/notebooks/data_table.ipynb>data table notebook</a>'\n",
              "          + ' to learn more about interactive tables.';\n",
              "        element.innerHTML = '';\n",
              "        dataTable['output_type'] = 'display_data';\n",
              "        await google.colab.output.renderOutput(dataTable, element);\n",
              "        const docLink = document.createElement('div');\n",
              "        docLink.innerHTML = docLinkHtml;\n",
              "        element.appendChild(docLink);\n",
              "      }\n",
              "    </script>\n",
              "  </div>\n",
              "\n",
              "\n",
              "<div id=\"df-166a2fed-7e6e-401a-adcf-ca31236c0e53\">\n",
              "  <button class=\"colab-df-quickchart\" onclick=\"quickchart('df-166a2fed-7e6e-401a-adcf-ca31236c0e53')\"\n",
              "            title=\"Suggest charts\"\n",
              "            style=\"display:none;\">\n",
              "\n",
              "<svg xmlns=\"http://www.w3.org/2000/svg\" height=\"24px\"viewBox=\"0 0 24 24\"\n",
              "     width=\"24px\">\n",
              "    <g>\n",
              "        <path d=\"M19 3H5c-1.1 0-2 .9-2 2v14c0 1.1.9 2 2 2h14c1.1 0 2-.9 2-2V5c0-1.1-.9-2-2-2zM9 17H7v-7h2v7zm4 0h-2V7h2v10zm4 0h-2v-4h2v4z\"/>\n",
              "    </g>\n",
              "</svg>\n",
              "  </button>\n",
              "\n",
              "<style>\n",
              "  .colab-df-quickchart {\n",
              "      --bg-color: #E8F0FE;\n",
              "      --fill-color: #1967D2;\n",
              "      --hover-bg-color: #E2EBFA;\n",
              "      --hover-fill-color: #174EA6;\n",
              "      --disabled-fill-color: #AAA;\n",
              "      --disabled-bg-color: #DDD;\n",
              "  }\n",
              "\n",
              "  [theme=dark] .colab-df-quickchart {\n",
              "      --bg-color: #3B4455;\n",
              "      --fill-color: #D2E3FC;\n",
              "      --hover-bg-color: #434B5C;\n",
              "      --hover-fill-color: #FFFFFF;\n",
              "      --disabled-bg-color: #3B4455;\n",
              "      --disabled-fill-color: #666;\n",
              "  }\n",
              "\n",
              "  .colab-df-quickchart {\n",
              "    background-color: var(--bg-color);\n",
              "    border: none;\n",
              "    border-radius: 50%;\n",
              "    cursor: pointer;\n",
              "    display: none;\n",
              "    fill: var(--fill-color);\n",
              "    height: 32px;\n",
              "    padding: 0;\n",
              "    width: 32px;\n",
              "  }\n",
              "\n",
              "  .colab-df-quickchart:hover {\n",
              "    background-color: var(--hover-bg-color);\n",
              "    box-shadow: 0 1px 2px rgba(60, 64, 67, 0.3), 0 1px 3px 1px rgba(60, 64, 67, 0.15);\n",
              "    fill: var(--button-hover-fill-color);\n",
              "  }\n",
              "\n",
              "  .colab-df-quickchart-complete:disabled,\n",
              "  .colab-df-quickchart-complete:disabled:hover {\n",
              "    background-color: var(--disabled-bg-color);\n",
              "    fill: var(--disabled-fill-color);\n",
              "    box-shadow: none;\n",
              "  }\n",
              "\n",
              "  .colab-df-spinner {\n",
              "    border: 2px solid var(--fill-color);\n",
              "    border-color: transparent;\n",
              "    border-bottom-color: var(--fill-color);\n",
              "    animation:\n",
              "      spin 1s steps(1) infinite;\n",
              "  }\n",
              "\n",
              "  @keyframes spin {\n",
              "    0% {\n",
              "      border-color: transparent;\n",
              "      border-bottom-color: var(--fill-color);\n",
              "      border-left-color: var(--fill-color);\n",
              "    }\n",
              "    20% {\n",
              "      border-color: transparent;\n",
              "      border-left-color: var(--fill-color);\n",
              "      border-top-color: var(--fill-color);\n",
              "    }\n",
              "    30% {\n",
              "      border-color: transparent;\n",
              "      border-left-color: var(--fill-color);\n",
              "      border-top-color: var(--fill-color);\n",
              "      border-right-color: var(--fill-color);\n",
              "    }\n",
              "    40% {\n",
              "      border-color: transparent;\n",
              "      border-right-color: var(--fill-color);\n",
              "      border-top-color: var(--fill-color);\n",
              "    }\n",
              "    60% {\n",
              "      border-color: transparent;\n",
              "      border-right-color: var(--fill-color);\n",
              "    }\n",
              "    80% {\n",
              "      border-color: transparent;\n",
              "      border-right-color: var(--fill-color);\n",
              "      border-bottom-color: var(--fill-color);\n",
              "    }\n",
              "    90% {\n",
              "      border-color: transparent;\n",
              "      border-bottom-color: var(--fill-color);\n",
              "    }\n",
              "  }\n",
              "</style>\n",
              "\n",
              "  <script>\n",
              "    async function quickchart(key) {\n",
              "      const quickchartButtonEl =\n",
              "        document.querySelector('#' + key + ' button');\n",
              "      quickchartButtonEl.disabled = true;  // To prevent multiple clicks.\n",
              "      quickchartButtonEl.classList.add('colab-df-spinner');\n",
              "      try {\n",
              "        const charts = await google.colab.kernel.invokeFunction(\n",
              "            'suggestCharts', [key], {});\n",
              "      } catch (error) {\n",
              "        console.error('Error during call to suggestCharts:', error);\n",
              "      }\n",
              "      quickchartButtonEl.classList.remove('colab-df-spinner');\n",
              "      quickchartButtonEl.classList.add('colab-df-quickchart-complete');\n",
              "    }\n",
              "    (() => {\n",
              "      let quickchartButtonEl =\n",
              "        document.querySelector('#df-166a2fed-7e6e-401a-adcf-ca31236c0e53 button');\n",
              "      quickchartButtonEl.style.display =\n",
              "        google.colab.kernel.accessAllowed ? 'block' : 'none';\n",
              "    })();\n",
              "  </script>\n",
              "</div>\n",
              "    </div>\n",
              "  </div>\n"
            ],
            "application/vnd.google.colaboratory.intrinsic+json": {
              "type": "dataframe",
              "variable_name": "data_set2",
              "summary": "{\n  \"name\": \"data_set2\",\n  \"rows\": 64141,\n  \"fields\": [\n    {\n      \"column\": \"VACANCY\",\n      \"properties\": {\n        \"dtype\": \"number\",\n        \"std\": 3,\n        \"min\": -6,\n        \"max\": 11,\n        \"num_unique_values\": 12,\n        \"samples\": [\n          9,\n          4,\n          -6\n        ],\n        \"semantic_type\": \"\",\n        \"description\": \"\"\n      }\n    },\n    {\n      \"column\": \"FS\",\n      \"properties\": {\n        \"dtype\": \"number\",\n        \"std\": 3,\n        \"min\": -9,\n        \"max\": 2,\n        \"num_unique_values\": 4,\n        \"samples\": [\n          -6,\n          -9,\n          2\n        ],\n        \"semantic_type\": \"\",\n        \"description\": \"\"\n      }\n    },\n    {\n      \"column\": \"YRBUILT\",\n      \"properties\": {\n        \"dtype\": \"number\",\n        \"std\": 26,\n        \"min\": 1919,\n        \"max\": 2021,\n        \"num_unique_values\": 22,\n        \"samples\": [\n          1970,\n          2013,\n          1920\n        ],\n        \"semantic_type\": \"\",\n        \"description\": \"\"\n      }\n    },\n    {\n      \"column\": \"REMODAMT\",\n      \"properties\": {\n        \"dtype\": \"number\",\n        \"std\": 16873,\n        \"min\": -6,\n        \"max\": 903600,\n        \"num_unique_values\": 2703,\n        \"samples\": [\n          32700,\n          87000,\n          105500\n        ],\n        \"semantic_type\": \"\",\n        \"description\": \"\"\n      }\n    },\n    {\n      \"column\": \"BLD\",\n      \"properties\": {\n        \"dtype\": \"number\",\n        \"std\": 2,\n        \"min\": 1,\n        \"max\": 10,\n        \"num_unique_values\": 10,\n        \"samples\": [\n          8,\n          3,\n          1\n        ],\n        \"semantic_type\": \"\",\n        \"description\": \"\"\n      }\n    },\n    {\n      \"column\": \"TENURE\",\n      \"properties\": {\n        \"dtype\": \"number\",\n        \"std\": 2,\n        \"min\": -6,\n        \"max\": 3,\n        \"num_unique_values\": 4,\n        \"samples\": [\n          -6,\n          3,\n          1\n        ],\n        \"semantic_type\": \"\",\n        \"description\": \"\"\n      }\n    },\n    {\n      \"column\": \"DBMISSRENT\",\n      \"properties\": {\n        \"dtype\": \"number\",\n        \"std\": 5,\n        \"min\": -9,\n        \"max\": 5,\n        \"num_unique_values\": 7,\n        \"samples\": [\n          -6,\n          5,\n          3\n        ],\n        \"semantic_type\": \"\",\n        \"description\": \"\"\n      }\n    },\n    {\n      \"column\": \"DBUTBILL\",\n      \"properties\": {\n        \"dtype\": \"number\",\n        \"std\": 3,\n        \"min\": -9,\n        \"max\": 4,\n        \"num_unique_values\": 6,\n        \"samples\": [\n          4,\n          -6,\n          3\n        ],\n        \"semantic_type\": \"\",\n        \"description\": \"\"\n      }\n    }\n  ]\n}"
            }
          },
          "metadata": {},
          "execution_count": 3
        }
      ]
    },
    {
      "cell_type": "code",
      "source": [
        "merged_dataset = pd.read_csv(merged_data)\n",
        "merged_dataset"
      ],
      "metadata": {
        "id": "GrwGePjI_ZaY",
        "colab": {
          "base_uri": "https://localhost:8080/",
          "height": 444
        },
        "outputId": "c5862f06-417e-40a9-f091-28ae861304ef"
      },
      "execution_count": 4,
      "outputs": [
        {
          "output_type": "execute_result",
          "data": {
            "text/plain": [
              "       HHAGE  HHOLDKIDS  HHYNGKIDS  HHGRAD  HHMAR   HINCP  HHNATVTY  HHSEX  \\\n",
              "0         74          0          0      47      1   74030        57      1   \n",
              "1         55          0          0      44      1  147000        57      1   \n",
              "2         -6         -6         -6      -6     -6      -6        -6     -6   \n",
              "3         80          0          0      39      3    1920        57      2   \n",
              "4         60          0          0      45      1  129000        57      1   \n",
              "...      ...        ...        ...     ...    ...     ...       ...    ...   \n",
              "64136     -6         -6         -6      -6     -6      -6        -6     -6   \n",
              "64137     44          0          0      39      1  125000        57      2   \n",
              "64138     -6         -6         -6      -6     -6      -6        -6     -6   \n",
              "64139     23          0          0      44      6       0        57      1   \n",
              "64140     27          0          0      44      1  205000        57      1   \n",
              "\n",
              "       SAMESEXHH  HHRACE  ...  VACANCY  FS  YRBUILT  REMODAMT  BLD  TENURE  \\\n",
              "0              2       1  ...       -6   2     1970     19900    2       1   \n",
              "1              2       1  ...       -6   2     1960     15100    2       1   \n",
              "2             -6      -6  ...       10  -6     1970        -6    2      -6   \n",
              "3              2       1  ...       -6   1     1970        -6    2       2   \n",
              "4              2       1  ...       -6   2     1980      3650    2       1   \n",
              "...          ...     ...  ...      ...  ..      ...       ...  ...     ...   \n",
              "64136         -6      -6  ...       10  -6     2020        -6    2      -6   \n",
              "64137          1       1  ...       -6  -6     2019     24600    2       1   \n",
              "64138         -6      -6  ...        3  -6     2017        -6    2      -6   \n",
              "64139          2       1  ...       -6   2     1950        -6    9       2   \n",
              "64140          2       1  ...       -6  -6     2017     24500    2       1   \n",
              "\n",
              "       DBMISSRENT  RMJOB  RMHOME  DBUTBILL  \n",
              "0              -6     -6      -6         4  \n",
              "1              -6     -6      -6         4  \n",
              "2              -6     -6      -6        -6  \n",
              "3               5     -6      -6         4  \n",
              "4              -6     -6      -6         4  \n",
              "...           ...    ...     ...       ...  \n",
              "64136          -6     -6      -6        -6  \n",
              "64137          -6      2       1         4  \n",
              "64138          -6     -6      -6        -6  \n",
              "64139           5      2       2         4  \n",
              "64140          -6     -6      -6         4  \n",
              "\n",
              "[64141 rows x 29 columns]"
            ],
            "text/html": [
              "\n",
              "  <div id=\"df-47105bc1-3a9b-4111-80d2-7187747299f9\" class=\"colab-df-container\">\n",
              "    <div>\n",
              "<style scoped>\n",
              "    .dataframe tbody tr th:only-of-type {\n",
              "        vertical-align: middle;\n",
              "    }\n",
              "\n",
              "    .dataframe tbody tr th {\n",
              "        vertical-align: top;\n",
              "    }\n",
              "\n",
              "    .dataframe thead th {\n",
              "        text-align: right;\n",
              "    }\n",
              "</style>\n",
              "<table border=\"1\" class=\"dataframe\">\n",
              "  <thead>\n",
              "    <tr style=\"text-align: right;\">\n",
              "      <th></th>\n",
              "      <th>HHAGE</th>\n",
              "      <th>HHOLDKIDS</th>\n",
              "      <th>HHYNGKIDS</th>\n",
              "      <th>HHGRAD</th>\n",
              "      <th>HHMAR</th>\n",
              "      <th>HINCP</th>\n",
              "      <th>HHNATVTY</th>\n",
              "      <th>HHSEX</th>\n",
              "      <th>SAMESEXHH</th>\n",
              "      <th>HHRACE</th>\n",
              "      <th>...</th>\n",
              "      <th>VACANCY</th>\n",
              "      <th>FS</th>\n",
              "      <th>YRBUILT</th>\n",
              "      <th>REMODAMT</th>\n",
              "      <th>BLD</th>\n",
              "      <th>TENURE</th>\n",
              "      <th>DBMISSRENT</th>\n",
              "      <th>RMJOB</th>\n",
              "      <th>RMHOME</th>\n",
              "      <th>DBUTBILL</th>\n",
              "    </tr>\n",
              "  </thead>\n",
              "  <tbody>\n",
              "    <tr>\n",
              "      <th>0</th>\n",
              "      <td>74</td>\n",
              "      <td>0</td>\n",
              "      <td>0</td>\n",
              "      <td>47</td>\n",
              "      <td>1</td>\n",
              "      <td>74030</td>\n",
              "      <td>57</td>\n",
              "      <td>1</td>\n",
              "      <td>2</td>\n",
              "      <td>1</td>\n",
              "      <td>...</td>\n",
              "      <td>-6</td>\n",
              "      <td>2</td>\n",
              "      <td>1970</td>\n",
              "      <td>19900</td>\n",
              "      <td>2</td>\n",
              "      <td>1</td>\n",
              "      <td>-6</td>\n",
              "      <td>-6</td>\n",
              "      <td>-6</td>\n",
              "      <td>4</td>\n",
              "    </tr>\n",
              "    <tr>\n",
              "      <th>1</th>\n",
              "      <td>55</td>\n",
              "      <td>0</td>\n",
              "      <td>0</td>\n",
              "      <td>44</td>\n",
              "      <td>1</td>\n",
              "      <td>147000</td>\n",
              "      <td>57</td>\n",
              "      <td>1</td>\n",
              "      <td>2</td>\n",
              "      <td>1</td>\n",
              "      <td>...</td>\n",
              "      <td>-6</td>\n",
              "      <td>2</td>\n",
              "      <td>1960</td>\n",
              "      <td>15100</td>\n",
              "      <td>2</td>\n",
              "      <td>1</td>\n",
              "      <td>-6</td>\n",
              "      <td>-6</td>\n",
              "      <td>-6</td>\n",
              "      <td>4</td>\n",
              "    </tr>\n",
              "    <tr>\n",
              "      <th>2</th>\n",
              "      <td>-6</td>\n",
              "      <td>-6</td>\n",
              "      <td>-6</td>\n",
              "      <td>-6</td>\n",
              "      <td>-6</td>\n",
              "      <td>-6</td>\n",
              "      <td>-6</td>\n",
              "      <td>-6</td>\n",
              "      <td>-6</td>\n",
              "      <td>-6</td>\n",
              "      <td>...</td>\n",
              "      <td>10</td>\n",
              "      <td>-6</td>\n",
              "      <td>1970</td>\n",
              "      <td>-6</td>\n",
              "      <td>2</td>\n",
              "      <td>-6</td>\n",
              "      <td>-6</td>\n",
              "      <td>-6</td>\n",
              "      <td>-6</td>\n",
              "      <td>-6</td>\n",
              "    </tr>\n",
              "    <tr>\n",
              "      <th>3</th>\n",
              "      <td>80</td>\n",
              "      <td>0</td>\n",
              "      <td>0</td>\n",
              "      <td>39</td>\n",
              "      <td>3</td>\n",
              "      <td>1920</td>\n",
              "      <td>57</td>\n",
              "      <td>2</td>\n",
              "      <td>2</td>\n",
              "      <td>1</td>\n",
              "      <td>...</td>\n",
              "      <td>-6</td>\n",
              "      <td>1</td>\n",
              "      <td>1970</td>\n",
              "      <td>-6</td>\n",
              "      <td>2</td>\n",
              "      <td>2</td>\n",
              "      <td>5</td>\n",
              "      <td>-6</td>\n",
              "      <td>-6</td>\n",
              "      <td>4</td>\n",
              "    </tr>\n",
              "    <tr>\n",
              "      <th>4</th>\n",
              "      <td>60</td>\n",
              "      <td>0</td>\n",
              "      <td>0</td>\n",
              "      <td>45</td>\n",
              "      <td>1</td>\n",
              "      <td>129000</td>\n",
              "      <td>57</td>\n",
              "      <td>1</td>\n",
              "      <td>2</td>\n",
              "      <td>1</td>\n",
              "      <td>...</td>\n",
              "      <td>-6</td>\n",
              "      <td>2</td>\n",
              "      <td>1980</td>\n",
              "      <td>3650</td>\n",
              "      <td>2</td>\n",
              "      <td>1</td>\n",
              "      <td>-6</td>\n",
              "      <td>-6</td>\n",
              "      <td>-6</td>\n",
              "      <td>4</td>\n",
              "    </tr>\n",
              "    <tr>\n",
              "      <th>...</th>\n",
              "      <td>...</td>\n",
              "      <td>...</td>\n",
              "      <td>...</td>\n",
              "      <td>...</td>\n",
              "      <td>...</td>\n",
              "      <td>...</td>\n",
              "      <td>...</td>\n",
              "      <td>...</td>\n",
              "      <td>...</td>\n",
              "      <td>...</td>\n",
              "      <td>...</td>\n",
              "      <td>...</td>\n",
              "      <td>...</td>\n",
              "      <td>...</td>\n",
              "      <td>...</td>\n",
              "      <td>...</td>\n",
              "      <td>...</td>\n",
              "      <td>...</td>\n",
              "      <td>...</td>\n",
              "      <td>...</td>\n",
              "      <td>...</td>\n",
              "    </tr>\n",
              "    <tr>\n",
              "      <th>64136</th>\n",
              "      <td>-6</td>\n",
              "      <td>-6</td>\n",
              "      <td>-6</td>\n",
              "      <td>-6</td>\n",
              "      <td>-6</td>\n",
              "      <td>-6</td>\n",
              "      <td>-6</td>\n",
              "      <td>-6</td>\n",
              "      <td>-6</td>\n",
              "      <td>-6</td>\n",
              "      <td>...</td>\n",
              "      <td>10</td>\n",
              "      <td>-6</td>\n",
              "      <td>2020</td>\n",
              "      <td>-6</td>\n",
              "      <td>2</td>\n",
              "      <td>-6</td>\n",
              "      <td>-6</td>\n",
              "      <td>-6</td>\n",
              "      <td>-6</td>\n",
              "      <td>-6</td>\n",
              "    </tr>\n",
              "    <tr>\n",
              "      <th>64137</th>\n",
              "      <td>44</td>\n",
              "      <td>0</td>\n",
              "      <td>0</td>\n",
              "      <td>39</td>\n",
              "      <td>1</td>\n",
              "      <td>125000</td>\n",
              "      <td>57</td>\n",
              "      <td>2</td>\n",
              "      <td>1</td>\n",
              "      <td>1</td>\n",
              "      <td>...</td>\n",
              "      <td>-6</td>\n",
              "      <td>-6</td>\n",
              "      <td>2019</td>\n",
              "      <td>24600</td>\n",
              "      <td>2</td>\n",
              "      <td>1</td>\n",
              "      <td>-6</td>\n",
              "      <td>2</td>\n",
              "      <td>1</td>\n",
              "      <td>4</td>\n",
              "    </tr>\n",
              "    <tr>\n",
              "      <th>64138</th>\n",
              "      <td>-6</td>\n",
              "      <td>-6</td>\n",
              "      <td>-6</td>\n",
              "      <td>-6</td>\n",
              "      <td>-6</td>\n",
              "      <td>-6</td>\n",
              "      <td>-6</td>\n",
              "      <td>-6</td>\n",
              "      <td>-6</td>\n",
              "      <td>-6</td>\n",
              "      <td>...</td>\n",
              "      <td>3</td>\n",
              "      <td>-6</td>\n",
              "      <td>2017</td>\n",
              "      <td>-6</td>\n",
              "      <td>2</td>\n",
              "      <td>-6</td>\n",
              "      <td>-6</td>\n",
              "      <td>-6</td>\n",
              "      <td>-6</td>\n",
              "      <td>-6</td>\n",
              "    </tr>\n",
              "    <tr>\n",
              "      <th>64139</th>\n",
              "      <td>23</td>\n",
              "      <td>0</td>\n",
              "      <td>0</td>\n",
              "      <td>44</td>\n",
              "      <td>6</td>\n",
              "      <td>0</td>\n",
              "      <td>57</td>\n",
              "      <td>1</td>\n",
              "      <td>2</td>\n",
              "      <td>1</td>\n",
              "      <td>...</td>\n",
              "      <td>-6</td>\n",
              "      <td>2</td>\n",
              "      <td>1950</td>\n",
              "      <td>-6</td>\n",
              "      <td>9</td>\n",
              "      <td>2</td>\n",
              "      <td>5</td>\n",
              "      <td>2</td>\n",
              "      <td>2</td>\n",
              "      <td>4</td>\n",
              "    </tr>\n",
              "    <tr>\n",
              "      <th>64140</th>\n",
              "      <td>27</td>\n",
              "      <td>0</td>\n",
              "      <td>0</td>\n",
              "      <td>44</td>\n",
              "      <td>1</td>\n",
              "      <td>205000</td>\n",
              "      <td>57</td>\n",
              "      <td>1</td>\n",
              "      <td>2</td>\n",
              "      <td>1</td>\n",
              "      <td>...</td>\n",
              "      <td>-6</td>\n",
              "      <td>-6</td>\n",
              "      <td>2017</td>\n",
              "      <td>24500</td>\n",
              "      <td>2</td>\n",
              "      <td>1</td>\n",
              "      <td>-6</td>\n",
              "      <td>-6</td>\n",
              "      <td>-6</td>\n",
              "      <td>4</td>\n",
              "    </tr>\n",
              "  </tbody>\n",
              "</table>\n",
              "<p>64141 rows × 29 columns</p>\n",
              "</div>\n",
              "    <div class=\"colab-df-buttons\">\n",
              "\n",
              "  <div class=\"colab-df-container\">\n",
              "    <button class=\"colab-df-convert\" onclick=\"convertToInteractive('df-47105bc1-3a9b-4111-80d2-7187747299f9')\"\n",
              "            title=\"Convert this dataframe to an interactive table.\"\n",
              "            style=\"display:none;\">\n",
              "\n",
              "  <svg xmlns=\"http://www.w3.org/2000/svg\" height=\"24px\" viewBox=\"0 -960 960 960\">\n",
              "    <path d=\"M120-120v-720h720v720H120Zm60-500h600v-160H180v160Zm220 220h160v-160H400v160Zm0 220h160v-160H400v160ZM180-400h160v-160H180v160Zm440 0h160v-160H620v160ZM180-180h160v-160H180v160Zm440 0h160v-160H620v160Z\"/>\n",
              "  </svg>\n",
              "    </button>\n",
              "\n",
              "  <style>\n",
              "    .colab-df-container {\n",
              "      display:flex;\n",
              "      gap: 12px;\n",
              "    }\n",
              "\n",
              "    .colab-df-convert {\n",
              "      background-color: #E8F0FE;\n",
              "      border: none;\n",
              "      border-radius: 50%;\n",
              "      cursor: pointer;\n",
              "      display: none;\n",
              "      fill: #1967D2;\n",
              "      height: 32px;\n",
              "      padding: 0 0 0 0;\n",
              "      width: 32px;\n",
              "    }\n",
              "\n",
              "    .colab-df-convert:hover {\n",
              "      background-color: #E2EBFA;\n",
              "      box-shadow: 0px 1px 2px rgba(60, 64, 67, 0.3), 0px 1px 3px 1px rgba(60, 64, 67, 0.15);\n",
              "      fill: #174EA6;\n",
              "    }\n",
              "\n",
              "    .colab-df-buttons div {\n",
              "      margin-bottom: 4px;\n",
              "    }\n",
              "\n",
              "    [theme=dark] .colab-df-convert {\n",
              "      background-color: #3B4455;\n",
              "      fill: #D2E3FC;\n",
              "    }\n",
              "\n",
              "    [theme=dark] .colab-df-convert:hover {\n",
              "      background-color: #434B5C;\n",
              "      box-shadow: 0px 1px 3px 1px rgba(0, 0, 0, 0.15);\n",
              "      filter: drop-shadow(0px 1px 2px rgba(0, 0, 0, 0.3));\n",
              "      fill: #FFFFFF;\n",
              "    }\n",
              "  </style>\n",
              "\n",
              "    <script>\n",
              "      const buttonEl =\n",
              "        document.querySelector('#df-47105bc1-3a9b-4111-80d2-7187747299f9 button.colab-df-convert');\n",
              "      buttonEl.style.display =\n",
              "        google.colab.kernel.accessAllowed ? 'block' : 'none';\n",
              "\n",
              "      async function convertToInteractive(key) {\n",
              "        const element = document.querySelector('#df-47105bc1-3a9b-4111-80d2-7187747299f9');\n",
              "        const dataTable =\n",
              "          await google.colab.kernel.invokeFunction('convertToInteractive',\n",
              "                                                    [key], {});\n",
              "        if (!dataTable) return;\n",
              "\n",
              "        const docLinkHtml = 'Like what you see? Visit the ' +\n",
              "          '<a target=\"_blank\" href=https://colab.research.google.com/notebooks/data_table.ipynb>data table notebook</a>'\n",
              "          + ' to learn more about interactive tables.';\n",
              "        element.innerHTML = '';\n",
              "        dataTable['output_type'] = 'display_data';\n",
              "        await google.colab.output.renderOutput(dataTable, element);\n",
              "        const docLink = document.createElement('div');\n",
              "        docLink.innerHTML = docLinkHtml;\n",
              "        element.appendChild(docLink);\n",
              "      }\n",
              "    </script>\n",
              "  </div>\n",
              "\n",
              "\n",
              "<div id=\"df-7654d40a-a874-41df-ab8d-5513f56be1d9\">\n",
              "  <button class=\"colab-df-quickchart\" onclick=\"quickchart('df-7654d40a-a874-41df-ab8d-5513f56be1d9')\"\n",
              "            title=\"Suggest charts\"\n",
              "            style=\"display:none;\">\n",
              "\n",
              "<svg xmlns=\"http://www.w3.org/2000/svg\" height=\"24px\"viewBox=\"0 0 24 24\"\n",
              "     width=\"24px\">\n",
              "    <g>\n",
              "        <path d=\"M19 3H5c-1.1 0-2 .9-2 2v14c0 1.1.9 2 2 2h14c1.1 0 2-.9 2-2V5c0-1.1-.9-2-2-2zM9 17H7v-7h2v7zm4 0h-2V7h2v10zm4 0h-2v-4h2v4z\"/>\n",
              "    </g>\n",
              "</svg>\n",
              "  </button>\n",
              "\n",
              "<style>\n",
              "  .colab-df-quickchart {\n",
              "      --bg-color: #E8F0FE;\n",
              "      --fill-color: #1967D2;\n",
              "      --hover-bg-color: #E2EBFA;\n",
              "      --hover-fill-color: #174EA6;\n",
              "      --disabled-fill-color: #AAA;\n",
              "      --disabled-bg-color: #DDD;\n",
              "  }\n",
              "\n",
              "  [theme=dark] .colab-df-quickchart {\n",
              "      --bg-color: #3B4455;\n",
              "      --fill-color: #D2E3FC;\n",
              "      --hover-bg-color: #434B5C;\n",
              "      --hover-fill-color: #FFFFFF;\n",
              "      --disabled-bg-color: #3B4455;\n",
              "      --disabled-fill-color: #666;\n",
              "  }\n",
              "\n",
              "  .colab-df-quickchart {\n",
              "    background-color: var(--bg-color);\n",
              "    border: none;\n",
              "    border-radius: 50%;\n",
              "    cursor: pointer;\n",
              "    display: none;\n",
              "    fill: var(--fill-color);\n",
              "    height: 32px;\n",
              "    padding: 0;\n",
              "    width: 32px;\n",
              "  }\n",
              "\n",
              "  .colab-df-quickchart:hover {\n",
              "    background-color: var(--hover-bg-color);\n",
              "    box-shadow: 0 1px 2px rgba(60, 64, 67, 0.3), 0 1px 3px 1px rgba(60, 64, 67, 0.15);\n",
              "    fill: var(--button-hover-fill-color);\n",
              "  }\n",
              "\n",
              "  .colab-df-quickchart-complete:disabled,\n",
              "  .colab-df-quickchart-complete:disabled:hover {\n",
              "    background-color: var(--disabled-bg-color);\n",
              "    fill: var(--disabled-fill-color);\n",
              "    box-shadow: none;\n",
              "  }\n",
              "\n",
              "  .colab-df-spinner {\n",
              "    border: 2px solid var(--fill-color);\n",
              "    border-color: transparent;\n",
              "    border-bottom-color: var(--fill-color);\n",
              "    animation:\n",
              "      spin 1s steps(1) infinite;\n",
              "  }\n",
              "\n",
              "  @keyframes spin {\n",
              "    0% {\n",
              "      border-color: transparent;\n",
              "      border-bottom-color: var(--fill-color);\n",
              "      border-left-color: var(--fill-color);\n",
              "    }\n",
              "    20% {\n",
              "      border-color: transparent;\n",
              "      border-left-color: var(--fill-color);\n",
              "      border-top-color: var(--fill-color);\n",
              "    }\n",
              "    30% {\n",
              "      border-color: transparent;\n",
              "      border-left-color: var(--fill-color);\n",
              "      border-top-color: var(--fill-color);\n",
              "      border-right-color: var(--fill-color);\n",
              "    }\n",
              "    40% {\n",
              "      border-color: transparent;\n",
              "      border-right-color: var(--fill-color);\n",
              "      border-top-color: var(--fill-color);\n",
              "    }\n",
              "    60% {\n",
              "      border-color: transparent;\n",
              "      border-right-color: var(--fill-color);\n",
              "    }\n",
              "    80% {\n",
              "      border-color: transparent;\n",
              "      border-right-color: var(--fill-color);\n",
              "      border-bottom-color: var(--fill-color);\n",
              "    }\n",
              "    90% {\n",
              "      border-color: transparent;\n",
              "      border-bottom-color: var(--fill-color);\n",
              "    }\n",
              "  }\n",
              "</style>\n",
              "\n",
              "  <script>\n",
              "    async function quickchart(key) {\n",
              "      const quickchartButtonEl =\n",
              "        document.querySelector('#' + key + ' button');\n",
              "      quickchartButtonEl.disabled = true;  // To prevent multiple clicks.\n",
              "      quickchartButtonEl.classList.add('colab-df-spinner');\n",
              "      try {\n",
              "        const charts = await google.colab.kernel.invokeFunction(\n",
              "            'suggestCharts', [key], {});\n",
              "      } catch (error) {\n",
              "        console.error('Error during call to suggestCharts:', error);\n",
              "      }\n",
              "      quickchartButtonEl.classList.remove('colab-df-spinner');\n",
              "      quickchartButtonEl.classList.add('colab-df-quickchart-complete');\n",
              "    }\n",
              "    (() => {\n",
              "      let quickchartButtonEl =\n",
              "        document.querySelector('#df-7654d40a-a874-41df-ab8d-5513f56be1d9 button');\n",
              "      quickchartButtonEl.style.display =\n",
              "        google.colab.kernel.accessAllowed ? 'block' : 'none';\n",
              "    })();\n",
              "  </script>\n",
              "</div>\n",
              "    </div>\n",
              "  </div>\n"
            ],
            "application/vnd.google.colaboratory.intrinsic+json": {
              "type": "dataframe",
              "variable_name": "merged_dataset"
            }
          },
          "metadata": {},
          "execution_count": 4
        }
      ]
    },
    {
      "cell_type": "code",
      "source": [
        "data_set.columns"
      ],
      "metadata": {
        "id": "E4rVtwysGC7k",
        "colab": {
          "base_uri": "https://localhost:8080/"
        },
        "outputId": "734be2a4-524c-4dec-8bd0-47c0fd3bdb70"
      },
      "execution_count": 5,
      "outputs": [
        {
          "output_type": "execute_result",
          "data": {
            "text/plain": [
              "Index(['HHAGE', 'HHOLDKIDS', 'HHYNGKIDS', 'HHGRAD', 'HHMAR', 'HINCP',\n",
              "       'HHNATVTY', 'HHSEX', 'SAMESEXHH', 'HHRACE', 'HHCITSHP'],\n",
              "      dtype='object')"
            ]
          },
          "metadata": {},
          "execution_count": 5
        }
      ]
    },
    {
      "cell_type": "code",
      "source": [
        "data_set2.columns"
      ],
      "metadata": {
        "id": "Vs0kZ-hZGKcx",
        "colab": {
          "base_uri": "https://localhost:8080/"
        },
        "outputId": "9221bb7c-a48f-4c13-cba9-dc84d0b27659"
      },
      "execution_count": 6,
      "outputs": [
        {
          "output_type": "execute_result",
          "data": {
            "text/plain": [
              "Index(['VACANCY', 'FS', 'YRBUILT', 'REMODAMT', 'BLD', 'TENURE', 'DBMISSRENT',\n",
              "       'DBUTBILL'],\n",
              "      dtype='object')"
            ]
          },
          "metadata": {},
          "execution_count": 6
        }
      ]
    },
    {
      "cell_type": "code",
      "source": [
        "merged_dataset.columns"
      ],
      "metadata": {
        "id": "VPMVyXw4CIDm",
        "colab": {
          "base_uri": "https://localhost:8080/"
        },
        "outputId": "339600d0-7d1e-48e5-f474-551a22d294ae"
      },
      "execution_count": 7,
      "outputs": [
        {
          "output_type": "execute_result",
          "data": {
            "text/plain": [
              "Index(['HHAGE', 'HHOLDKIDS', 'HHYNGKIDS', 'HHGRAD', 'HHMAR', 'HINCP',\n",
              "       'HHNATVTY', 'HHSEX', 'SAMESEXHH', 'HHRACE', 'HHCITSHP', 'RMHOOD',\n",
              "       'HRATE', 'NRATE', 'SEARCHAPRJ', 'SEARCHCRED', 'ROACH', 'ROACH.1',\n",
              "       'RODENT', 'VACANCY', 'FS', 'YRBUILT', 'REMODAMT', 'BLD', 'TENURE',\n",
              "       'DBMISSRENT', 'RMJOB', 'RMHOME', 'DBUTBILL'],\n",
              "      dtype='object')"
            ]
          },
          "metadata": {},
          "execution_count": 7
        }
      ]
    },
    {
      "cell_type": "markdown",
      "source": [
        "# Feature Engineering"
      ],
      "metadata": {
        "id": "5-1J59XjSGHC"
      }
    },
    {
      "cell_type": "code",
      "source": [
        "median_age = merged_dataset['HHAGE'].median()\n",
        "indices = merged_dataset['HHAGE'] < 0\n",
        "\n",
        "# Replace values less than 0 with the mean age\n",
        "merged_dataset.loc[indices, 'HHAGE'] = median_age\n",
        "median_age\n",
        "\n",
        "merged_dataset['HHAGE'].value_counts()\n"
      ],
      "metadata": {
        "id": "LlIH40zkTE9b",
        "colab": {
          "base_uri": "https://localhost:8080/"
        },
        "outputId": "820d20fe-464b-479f-a29b-d6d75c663394"
      },
      "execution_count": 8,
      "outputs": [
        {
          "output_type": "execute_result",
          "data": {
            "text/plain": [
              "HHAGE\n",
              "50    9155\n",
              "80    2140\n",
              "85    1983\n",
              "65    1151\n",
              "60    1148\n",
              "      ... \n",
              "19      86\n",
              "18      32\n",
              "17       5\n",
              "15       5\n",
              "16       4\n",
              "Name: count, Length: 67, dtype: int64"
            ]
          },
          "metadata": {},
          "execution_count": 8
        }
      ]
    },
    {
      "cell_type": "code",
      "source": [
        "sns.histplot(merged_dataset['HHAGE'])"
      ],
      "metadata": {
        "id": "rGN2wWr30W5k",
        "colab": {
          "base_uri": "https://localhost:8080/",
          "height": 466
        },
        "outputId": "bb92a38a-e7ad-40a5-e8b2-625b934d3c06"
      },
      "execution_count": 9,
      "outputs": [
        {
          "output_type": "execute_result",
          "data": {
            "text/plain": [
              "<Axes: xlabel='HHAGE', ylabel='Count'>"
            ]
          },
          "metadata": {},
          "execution_count": 9
        },
        {
          "output_type": "display_data",
          "data": {
            "text/plain": [
              "<Figure size 640x480 with 1 Axes>"
            ],
            "image/png": "[encoded data removed]"
          },
          "metadata": {}
        }
      ]
    },
    {
      "cell_type": "code",
      "source": [
        "# Catagory to define gentrification\n",
        "# Housing units are defined to be gentrified if property renovations are completed or if members of a\n",
        "# household recently moved to the neighborhood with reports of moving for better jobs, homes, or neighborhoods.\n",
        "\n",
        "merged_dataset['Gentrification_Label'] = 0\n",
        "\n",
        "gentrified_specifications = (\n",
        "    (merged_dataset['REMODAMT'] > 0) |                                      # REMODAMT - Total cost of home improvement jobs in last two years\n",
        "    (merged_dataset['RMHOOD'] == 1) |                                       # Flag indicating respondent, who moved in last two years, moved to be in more desirable neighborhood\n",
        "    (merged_dataset['RMJOB'] == 1) |                                        # Flag indicating respondent, who moved in last two years, moved for job\n",
        "    (merged_dataset['RMHOME'] == 1) |                                       # Flag indicating respondent, who moved in last two years, moved for better home\n",
        "    (merged_dataset['HRATE'] == 1) &                                        # Rating of current home\n",
        "    ((merged_dataset['NRATE'] == 1) | merged_dataset['NRATE'] == 3)         # Rating of current neighborhood\n",
        ")\n",
        "\n",
        "merged_dataset.loc[gentrified_specifications, 'Gentrification_Label'] = 1\n",
        "\n",
        "merged_dataset['Gentrification_Label'].value_counts()\n",
        "\n"
      ],
      "metadata": {
        "id": "PV2terp9rCR7",
        "colab": {
          "base_uri": "https://localhost:8080/"
        },
        "outputId": "ce3a93ad-f819-4970-c116-03fcdeae41e8"
      },
      "execution_count": 10,
      "outputs": [
        {
          "output_type": "execute_result",
          "data": {
            "text/plain": [
              "Gentrification_Label\n",
              "0    40328\n",
              "1    23813\n",
              "Name: count, dtype: int64"
            ]
          },
          "metadata": {},
          "execution_count": 10
        }
      ]
    },
    {
      "cell_type": "markdown",
      "source": [
        "#Building the Model"
      ],
      "metadata": {
        "id": "Fa5VkoYu3S56"
      }
    },
    {
      "cell_type": "code",
      "source": [
        "# Define features (X) and target variable (y)\n",
        "X = merged_dataset[['HHAGE', 'HHOLDKIDS', 'HHYNGKIDS', 'HHGRAD', 'HHMAR', 'HINCP',\n",
        "                    'HHNATVTY', 'HHSEX', 'SAMESEXHH', 'HHRACE', 'HHCITSHP', 'RMHOOD',\n",
        "                    'HRATE', 'NRATE', 'SEARCHAPRJ', 'SEARCHCRED', 'ROACH', 'ROACH.1',\n",
        "                    'RODENT', 'VACANCY', 'FS', 'YRBUILT', 'REMODAMT', 'BLD', 'TENURE',\n",
        "                    'DBMISSRENT', 'RMJOB', 'RMHOME', 'DBUTBILL']]\n",
        "\n",
        "y = merged_dataset['Gentrification_Label']\n",
        "\n",
        "# Split the data into training and testing sets (80% training, 20% testing)\n",
        "X_train, X_test, y_train, y_test = train_test_split(X, y, test_size=0.2, random_state=42)\n",
        "\n",
        "print(\"Training set shape:\", X_train.shape, y_train.shape) # 51,312\n",
        "print(\"Testing set shape:\", X_test.shape, y_test.shape)    # 12,829\n",
        "\n",
        "\n",
        "# Initialize logistic regression model\n",
        "log_reg = LogisticRegression(max_iter=1000)\n",
        "\n",
        "# Train the model on the training data\n",
        "log_reg.fit(X_train, y_train)\n",
        "\n",
        "# Predict on the testing data\n",
        "y_pred = log_reg.predict(X_test)\n",
        "\n",
        "# Calculate evaluation metrics\n",
        "accuracy = accuracy_score(y_test, y_pred)\n",
        "precision = precision_score(y_test, y_pred)\n",
        "recall = recall_score(y_test, y_pred)\n",
        "f1 = f1_score(y_test, y_pred)\n",
        "conf_matrix = confusion_matrix(y_test, y_pred)\n",
        "\n",
        "# Print evaluation metrics\n",
        "print(\"Accuracy:\", accuracy)\n",
        "print(\"Precision:\", precision)\n",
        "print(\"Recall:\", recall)\n",
        "print(\"F1 Score:\", f1)\n",
        "print(\"Confusion Matrix:\\n\", conf_matrix)\n"
      ],
      "metadata": {
        "id": "P0dK2NOAoe5i",
        "colab": {
          "base_uri": "https://localhost:8080/"
        },
        "outputId": "3ef6eef0-5e7e-4e51-f048-87259cac0e03"
      },
      "execution_count": 11,
      "outputs": [
        {
          "output_type": "stream",
          "name": "stdout",
          "text": [
            "Training set shape: (51312, 29) (51312,)\n",
            "Testing set shape: (12829, 29) (12829,)\n",
            "Accuracy: 0.9299243900537844\n",
            "Precision: 0.8838158150378862\n",
            "Recall: 0.9379381443298969\n",
            "F1 Score: 0.9100730219065719\n",
            "Confusion Matrix:\n",
            " [[7381  598]\n",
            " [ 301 4549]]\n"
          ]
        }
      ]
    },
    {
      "cell_type": "code",
      "source": [
        "# Extract coefficients and feature names\n",
        "coefficients = log_reg.coef_[0]\n",
        "feature_names = X.columns\n",
        "\n",
        "# Create a horizontal bar plot for coefficients\n",
        "plt.figure(figsize=(10, 8))\n",
        "plt.barh(feature_names, coefficients)\n",
        "plt.xlabel('Coefficient Value')\n",
        "plt.ylabel('Feature')\n",
        "plt.title('Coefficients of Logistic Regression Model')\n",
        "plt.grid(axis='x')\n",
        "plt.show()\n",
        "\n",
        "#  Positive coefficients indicate factors that increase the likelihood of gentrification, while negative coefficients indicate factors that decrease the likelihood."
      ],
      "metadata": {
        "id": "LkyAjhy9FYJM",
        "colab": {
          "base_uri": "https://localhost:8080/",
          "height": 718
        },
        "outputId": "995563e6-0ac7-405f-c74a-e5f36f8dcccf"
      },
      "execution_count": 12,
      "outputs": [
        {
          "output_type": "display_data",
          "data": {
            "text/plain": [
              "<Figure size 1000x800 with 1 Axes>"
            ],
            "image/png": "[encoded data removed]"
          },
          "metadata": {}
        }
      ]
    },
    {
      "cell_type": "code",
      "source": [
        "# input features and target variable\n",
        "X = merged_dataset.drop(columns=['HHAGE', 'HHGRAD'])  # Input features\n",
        "y1 = merged_dataset['HHAGE']  # Target variable\n",
        "y2 = merged_dataset['HHGRAD']\n",
        "\n",
        "\n",
        "# Split the data into training and testing sets\n",
        "X_train, X_test, y1_train, y1_test, y2_train, y2_test = train_test_split(X, y1, y2,  test_size=0.2, random_state=42)\n",
        "\n",
        "# Initialize and train a linear regression model\n",
        "age_model = LinearRegression()\n",
        "age_model.fit(X_train, y1_train)\n",
        "\n",
        "grad_model = LinearRegression()\n",
        "grad_model.fit(X_train,y2_train)\n",
        "\n",
        "# predictions on our testing set\n",
        "y1_pred = age_model.predict(X_test)\n",
        "y2_pred = grad_model.predict(X_test)\n",
        "\n",
        "\n",
        "\n",
        "# Evaluation for age model\n",
        "mse = mean_squared_error(y1_test, y1_pred)\n",
        "print('Mean Squared Error:', mse)\n",
        "\n"
      ],
      "metadata": {
        "id": "DkK2JvJCHATX",
        "colab": {
          "base_uri": "https://localhost:8080/"
        },
        "outputId": "e917a43e-b67d-4123-89d6-080f3cf9e0c1"
      },
      "execution_count": 13,
      "outputs": [
        {
          "output_type": "stream",
          "name": "stdout",
          "text": [
            "Mean Squared Error: 158.3743304587127\n"
          ]
        }
      ]
    },
    {
      "cell_type": "code",
      "source": [
        "# Evaluation for gradutation model\n",
        "mse = mean_squared_error(y2_test, y2_pred)\n",
        "print('Mean Squared Error:', mse)"
      ],
      "metadata": {
        "id": "4HGr1dag26ws",
        "colab": {
          "base_uri": "https://localhost:8080/"
        },
        "outputId": "e6b30968-ce02-4361-a3dd-2c11e752ce7b"
      },
      "execution_count": 14,
      "outputs": [
        {
          "output_type": "stream",
          "name": "stdout",
          "text": [
            "Mean Squared Error: 7.40361608762136\n"
          ]
        }
      ]
    },
    {
      "cell_type": "markdown",
      "source": [
        "#Making Predictions"
      ],
      "metadata": {
        "id": "BXq1O_Cp36ox"
      }
    },
    {
      "cell_type": "code",
      "source": [
        "predictions_df = pd.DataFrame({'Actual Age': y1_test, 'Predicted Age': y1_pred, 'Actual Grad':y2_test,'Predicted Grad': y2_test})\n",
        "predictions_df\n"
      ],
      "metadata": {
        "id": "nuAelmXGLrMW",
        "colab": {
          "base_uri": "https://localhost:8080/",
          "height": 424
        },
        "outputId": "f624461c-4a3d-45ea-c0df-9a9f847b838b"
      },
      "execution_count": 15,
      "outputs": [
        {
          "output_type": "execute_result",
          "data": {
            "text/plain": [
              "       Actual Age  Predicted Age  Actual Grad  Predicted Grad\n",
              "52001          45      65.491955           40              40\n",
              "10643          32      62.365834           34              34\n",
              "58934          74      54.334370           37              37\n",
              "56743          54      51.493684           44              44\n",
              "21317          31      41.080967           44              44\n",
              "...           ...            ...          ...             ...\n",
              "8191           34      51.334160           45              45\n",
              "16180          60      58.975734           42              42\n",
              "57237          27      44.685443           40              40\n",
              "16889          49      51.474156           40              40\n",
              "6067           39      39.873437           45              45\n",
              "\n",
              "[12829 rows x 4 columns]"
            ],
            "text/html": [
              "\n",
              "  <div id=\"df-afd13501-e897-41bc-9787-98abdc17f89a\" class=\"colab-df-container\">\n",
              "    <div>\n",
              "<style scoped>\n",
              "    .dataframe tbody tr th:only-of-type {\n",
              "        vertical-align: middle;\n",
              "    }\n",
              "\n",
              "    .dataframe tbody tr th {\n",
              "        vertical-align: top;\n",
              "    }\n",
              "\n",
              "    .dataframe thead th {\n",
              "        text-align: right;\n",
              "    }\n",
              "</style>\n",
              "<table border=\"1\" class=\"dataframe\">\n",
              "  <thead>\n",
              "    <tr style=\"text-align: right;\">\n",
              "      <th></th>\n",
              "      <th>Actual Age</th>\n",
              "      <th>Predicted Age</th>\n",
              "      <th>Actual Grad</th>\n",
              "      <th>Predicted Grad</th>\n",
              "    </tr>\n",
              "  </thead>\n",
              "  <tbody>\n",
              "    <tr>\n",
              "      <th>52001</th>\n",
              "      <td>45</td>\n",
              "      <td>65.491955</td>\n",
              "      <td>40</td>\n",
              "      <td>40</td>\n",
              "    </tr>\n",
              "    <tr>\n",
              "      <th>10643</th>\n",
              "      <td>32</td>\n",
              "      <td>62.365834</td>\n",
              "      <td>34</td>\n",
              "      <td>34</td>\n",
              "    </tr>\n",
              "    <tr>\n",
              "      <th>58934</th>\n",
              "      <td>74</td>\n",
              "      <td>54.334370</td>\n",
              "      <td>37</td>\n",
              "      <td>37</td>\n",
              "    </tr>\n",
              "    <tr>\n",
              "      <th>56743</th>\n",
              "      <td>54</td>\n",
              "      <td>51.493684</td>\n",
              "      <td>44</td>\n",
              "      <td>44</td>\n",
              "    </tr>\n",
              "    <tr>\n",
              "      <th>21317</th>\n",
              "      <td>31</td>\n",
              "      <td>41.080967</td>\n",
              "      <td>44</td>\n",
              "      <td>44</td>\n",
              "    </tr>\n",
              "    <tr>\n",
              "      <th>...</th>\n",
              "      <td>...</td>\n",
              "      <td>...</td>\n",
              "      <td>...</td>\n",
              "      <td>...</td>\n",
              "    </tr>\n",
              "    <tr>\n",
              "      <th>8191</th>\n",
              "      <td>34</td>\n",
              "      <td>51.334160</td>\n",
              "      <td>45</td>\n",
              "      <td>45</td>\n",
              "    </tr>\n",
              "    <tr>\n",
              "      <th>16180</th>\n",
              "      <td>60</td>\n",
              "      <td>58.975734</td>\n",
              "      <td>42</td>\n",
              "      <td>42</td>\n",
              "    </tr>\n",
              "    <tr>\n",
              "      <th>57237</th>\n",
              "      <td>27</td>\n",
              "      <td>44.685443</td>\n",
              "      <td>40</td>\n",
              "      <td>40</td>\n",
              "    </tr>\n",
              "    <tr>\n",
              "      <th>16889</th>\n",
              "      <td>49</td>\n",
              "      <td>51.474156</td>\n",
              "      <td>40</td>\n",
              "      <td>40</td>\n",
              "    </tr>\n",
              "    <tr>\n",
              "      <th>6067</th>\n",
              "      <td>39</td>\n",
              "      <td>39.873437</td>\n",
              "      <td>45</td>\n",
              "      <td>45</td>\n",
              "    </tr>\n",
              "  </tbody>\n",
              "</table>\n",
              "<p>12829 rows × 4 columns</p>\n",
              "</div>\n",
              "    <div class=\"colab-df-buttons\">\n",
              "\n",
              "  <div class=\"colab-df-container\">\n",
              "    <button class=\"colab-df-convert\" onclick=\"convertToInteractive('df-afd13501-e897-41bc-9787-98abdc17f89a')\"\n",
              "            title=\"Convert this dataframe to an interactive table.\"\n",
              "            style=\"display:none;\">\n",
              "\n",
              "  <svg xmlns=\"http://www.w3.org/2000/svg\" height=\"24px\" viewBox=\"0 -960 960 960\">\n",
              "    <path d=\"M120-120v-720h720v720H120Zm60-500h600v-160H180v160Zm220 220h160v-160H400v160Zm0 220h160v-160H400v160ZM180-400h160v-160H180v160Zm440 0h160v-160H620v160ZM180-180h160v-160H180v160Zm440 0h160v-160H620v160Z\"/>\n",
              "  </svg>\n",
              "    </button>\n",
              "\n",
              "  <style>\n",
              "    .colab-df-container {\n",
              "      display:flex;\n",
              "      gap: 12px;\n",
              "    }\n",
              "\n",
              "    .colab-df-convert {\n",
              "      background-color: #E8F0FE;\n",
              "      border: none;\n",
              "      border-radius: 50%;\n",
              "      cursor: pointer;\n",
              "      display: none;\n",
              "      fill: #1967D2;\n",
              "      height: 32px;\n",
              "      padding: 0 0 0 0;\n",
              "      width: 32px;\n",
              "    }\n",
              "\n",
              "    .colab-df-convert:hover {\n",
              "      background-color: #E2EBFA;\n",
              "      box-shadow: 0px 1px 2px rgba(60, 64, 67, 0.3), 0px 1px 3px 1px rgba(60, 64, 67, 0.15);\n",
              "      fill: #174EA6;\n",
              "    }\n",
              "\n",
              "    .colab-df-buttons div {\n",
              "      margin-bottom: 4px;\n",
              "    }\n",
              "\n",
              "    [theme=dark] .colab-df-convert {\n",
              "      background-color: #3B4455;\n",
              "      fill: #D2E3FC;\n",
              "    }\n",
              "\n",
              "    [theme=dark] .colab-df-convert:hover {\n",
              "      background-color: #434B5C;\n",
              "      box-shadow: 0px 1px 3px 1px rgba(0, 0, 0, 0.15);\n",
              "      filter: drop-shadow(0px 1px 2px rgba(0, 0, 0, 0.3));\n",
              "      fill: #FFFFFF;\n",
              "    }\n",
              "  </style>\n",
              "\n",
              "    <script>\n",
              "      const buttonEl =\n",
              "        document.querySelector('#df-afd13501-e897-41bc-9787-98abdc17f89a button.colab-df-convert');\n",
              "      buttonEl.style.display =\n",
              "        google.colab.kernel.accessAllowed ? 'block' : 'none';\n",
              "\n",
              "      async function convertToInteractive(key) {\n",
              "        const element = document.querySelector('#df-afd13501-e897-41bc-9787-98abdc17f89a');\n",
              "        const dataTable =\n",
              "          await google.colab.kernel.invokeFunction('convertToInteractive',\n",
              "                                                    [key], {});\n",
              "        if (!dataTable) return;\n",
              "\n",
              "        const docLinkHtml = 'Like what you see? Visit the ' +\n",
              "          '<a target=\"_blank\" href=https://colab.research.google.com/notebooks/data_table.ipynb>data table notebook</a>'\n",
              "          + ' to learn more about interactive tables.';\n",
              "        element.innerHTML = '';\n",
              "        dataTable['output_type'] = 'display_data';\n",
              "        await google.colab.output.renderOutput(dataTable, element);\n",
              "        const docLink = document.createElement('div');\n",
              "        docLink.innerHTML = docLinkHtml;\n",
              "        element.appendChild(docLink);\n",
              "      }\n",
              "    </script>\n",
              "  </div>\n",
              "\n",
              "\n",
              "<div id=\"df-e4d09024-8b22-439d-a7fa-519371f9e6d2\">\n",
              "  <button class=\"colab-df-quickchart\" onclick=\"quickchart('df-e4d09024-8b22-439d-a7fa-519371f9e6d2')\"\n",
              "            title=\"Suggest charts\"\n",
              "            style=\"display:none;\">\n",
              "\n",
              "<svg xmlns=\"http://www.w3.org/2000/svg\" height=\"24px\"viewBox=\"0 0 24 24\"\n",
              "     width=\"24px\">\n",
              "    <g>\n",
              "        <path d=\"M19 3H5c-1.1 0-2 .9-2 2v14c0 1.1.9 2 2 2h14c1.1 0 2-.9 2-2V5c0-1.1-.9-2-2-2zM9 17H7v-7h2v7zm4 0h-2V7h2v10zm4 0h-2v-4h2v4z\"/>\n",
              "    </g>\n",
              "</svg>\n",
              "  </button>\n",
              "\n",
              "<style>\n",
              "  .colab-df-quickchart {\n",
              "      --bg-color: #E8F0FE;\n",
              "      --fill-color: #1967D2;\n",
              "      --hover-bg-color: #E2EBFA;\n",
              "      --hover-fill-color: #174EA6;\n",
              "      --disabled-fill-color: #AAA;\n",
              "      --disabled-bg-color: #DDD;\n",
              "  }\n",
              "\n",
              "  [theme=dark] .colab-df-quickchart {\n",
              "      --bg-color: #3B4455;\n",
              "      --fill-color: #D2E3FC;\n",
              "      --hover-bg-color: #434B5C;\n",
              "      --hover-fill-color: #FFFFFF;\n",
              "      --disabled-bg-color: #3B4455;\n",
              "      --disabled-fill-color: #666;\n",
              "  }\n",
              "\n",
              "  .colab-df-quickchart {\n",
              "    background-color: var(--bg-color);\n",
              "    border: none;\n",
              "    border-radius: 50%;\n",
              "    cursor: pointer;\n",
              "    display: none;\n",
              "    fill: var(--fill-color);\n",
              "    height: 32px;\n",
              "    padding: 0;\n",
              "    width: 32px;\n",
              "  }\n",
              "\n",
              "  .colab-df-quickchart:hover {\n",
              "    background-color: var(--hover-bg-color);\n",
              "    box-shadow: 0 1px 2px rgba(60, 64, 67, 0.3), 0 1px 3px 1px rgba(60, 64, 67, 0.15);\n",
              "    fill: var(--button-hover-fill-color);\n",
              "  }\n",
              "\n",
              "  .colab-df-quickchart-complete:disabled,\n",
              "  .colab-df-quickchart-complete:disabled:hover {\n",
              "    background-color: var(--disabled-bg-color);\n",
              "    fill: var(--disabled-fill-color);\n",
              "    box-shadow: none;\n",
              "  }\n",
              "\n",
              "  .colab-df-spinner {\n",
              "    border: 2px solid var(--fill-color);\n",
              "    border-color: transparent;\n",
              "    border-bottom-color: var(--fill-color);\n",
              "    animation:\n",
              "      spin 1s steps(1) infinite;\n",
              "  }\n",
              "\n",
              "  @keyframes spin {\n",
              "    0% {\n",
              "      border-color: transparent;\n",
              "      border-bottom-color: var(--fill-color);\n",
              "      border-left-color: var(--fill-color);\n",
              "    }\n",
              "    20% {\n",
              "      border-color: transparent;\n",
              "      border-left-color: var(--fill-color);\n",
              "      border-top-color: var(--fill-color);\n",
              "    }\n",
              "    30% {\n",
              "      border-color: transparent;\n",
              "      border-left-color: var(--fill-color);\n",
              "      border-top-color: var(--fill-color);\n",
              "      border-right-color: var(--fill-color);\n",
              "    }\n",
              "    40% {\n",
              "      border-color: transparent;\n",
              "      border-right-color: var(--fill-color);\n",
              "      border-top-color: var(--fill-color);\n",
              "    }\n",
              "    60% {\n",
              "      border-color: transparent;\n",
              "      border-right-color: var(--fill-color);\n",
              "    }\n",
              "    80% {\n",
              "      border-color: transparent;\n",
              "      border-right-color: var(--fill-color);\n",
              "      border-bottom-color: var(--fill-color);\n",
              "    }\n",
              "    90% {\n",
              "      border-color: transparent;\n",
              "      border-bottom-color: var(--fill-color);\n",
              "    }\n",
              "  }\n",
              "</style>\n",
              "\n",
              "  <script>\n",
              "    async function quickchart(key) {\n",
              "      const quickchartButtonEl =\n",
              "        document.querySelector('#' + key + ' button');\n",
              "      quickchartButtonEl.disabled = true;  // To prevent multiple clicks.\n",
              "      quickchartButtonEl.classList.add('colab-df-spinner');\n",
              "      try {\n",
              "        const charts = await google.colab.kernel.invokeFunction(\n",
              "            'suggestCharts', [key], {});\n",
              "      } catch (error) {\n",
              "        console.error('Error during call to suggestCharts:', error);\n",
              "      }\n",
              "      quickchartButtonEl.classList.remove('colab-df-spinner');\n",
              "      quickchartButtonEl.classList.add('colab-df-quickchart-complete');\n",
              "    }\n",
              "    (() => {\n",
              "      let quickchartButtonEl =\n",
              "        document.querySelector('#df-e4d09024-8b22-439d-a7fa-519371f9e6d2 button');\n",
              "      quickchartButtonEl.style.display =\n",
              "        google.colab.kernel.accessAllowed ? 'block' : 'none';\n",
              "    })();\n",
              "  </script>\n",
              "</div>\n",
              "    </div>\n",
              "  </div>\n"
            ],
            "application/vnd.google.colaboratory.intrinsic+json": {
              "type": "dataframe",
              "variable_name": "predictions_df",
              "summary": "{\n  \"name\": \"predictions_df\",\n  \"rows\": 12829,\n  \"fields\": [\n    {\n      \"column\": \"Actual Age\",\n      \"properties\": {\n        \"dtype\": \"number\",\n        \"std\": 15,\n        \"min\": 15,\n        \"max\": 85,\n        \"num_unique_values\": 67,\n        \"samples\": [\n          29,\n          26,\n          31\n        ],\n        \"semantic_type\": \"\",\n        \"description\": \"\"\n      }\n    },\n    {\n      \"column\": \"Predicted Age\",\n      \"properties\": {\n        \"dtype\": \"number\",\n        \"std\": 9.79275499158803,\n        \"min\": -2.4764216033495927,\n        \"max\": 74.30000612586868,\n        \"num_unique_values\": 11770,\n        \"samples\": [\n          56.20317961209791,\n          52.10424539169476,\n          63.22804845742151\n        ],\n        \"semantic_type\": \"\",\n        \"description\": \"\"\n      }\n    },\n    {\n      \"column\": \"Actual Grad\",\n      \"properties\": {\n        \"dtype\": \"number\",\n        \"std\": 15,\n        \"min\": -6,\n        \"max\": 47,\n        \"num_unique_values\": 18,\n        \"samples\": [\n          40,\n          34,\n          45\n        ],\n        \"semantic_type\": \"\",\n        \"description\": \"\"\n      }\n    },\n    {\n      \"column\": \"Predicted Grad\",\n      \"properties\": {\n        \"dtype\": \"number\",\n        \"std\": 15,\n        \"min\": -6,\n        \"max\": 47,\n        \"num_unique_values\": 18,\n        \"samples\": [\n          40,\n          34,\n          45\n        ],\n        \"semantic_type\": \"\",\n        \"description\": \"\"\n      }\n    }\n  ]\n}"
            }
          },
          "metadata": {},
          "execution_count": 15
        }
      ]
    },
    {
      "cell_type": "code",
      "source": [
        "predictions_df['Predicted Age'].mean()"
      ],
      "metadata": {
        "id": "BzRonSH3Bz_X",
        "colab": {
          "base_uri": "https://localhost:8080/"
        },
        "outputId": "fa091fc9-247f-44ea-ec6c-85dc4adfbf7d"
      },
      "execution_count": 16,
      "outputs": [
        {
          "output_type": "execute_result",
          "data": {
            "text/plain": [
              "52.84520558216692"
            ]
          },
          "metadata": {},
          "execution_count": 16
        }
      ]
    },
    {
      "cell_type": "code",
      "source": [
        "sns.histplot(predictions_df, x=predictions_df['Actual Age'], y=predictions_df['Predicted Age'])"
      ],
      "metadata": {
        "id": "sqoBXls64I2o",
        "colab": {
          "base_uri": "https://localhost:8080/",
          "height": 466
        },
        "outputId": "5f037683-da9c-4c2f-f10c-87bf7a1521f8"
      },
      "execution_count": 17,
      "outputs": [
        {
          "output_type": "execute_result",
          "data": {
            "text/plain": [
              "<Axes: xlabel='Actual Age', ylabel='Predicted Age'>"
            ]
          },
          "metadata": {},
          "execution_count": 17
        },
        {
          "output_type": "display_data",
          "data": {
            "text/plain": [
              "<Figure size 640x480 with 1 Axes>"
            ],
            "image/png": "[encoded data removed]"
          },
          "metadata": {}
        }
      ]
    },
    {
      "cell_type": "markdown",
      "source": [
        "#Data about Tenure\n",
        "## identifying what percent of the status of units owned or rented"
      ],
      "metadata": {
        "id": "Nl7mnhmKVMil"
      }
    },
    {
      "cell_type": "code",
      "source": [
        "data_set2['TENURE'].value_counts()"
      ],
      "metadata": {
        "id": "f8wwIg3yQe-z",
        "colab": {
          "base_uri": "https://localhost:8080/"
        },
        "outputId": "718c07d8-5947-4b8e-af6c-4476f25b7c35"
      },
      "execution_count": 18,
      "outputs": [
        {
          "output_type": "execute_result",
          "data": {
            "text/plain": [
              "TENURE\n",
              " 1    31669\n",
              " 2    23682\n",
              "-6     8083\n",
              " 3      707\n",
              "Name: count, dtype: int64"
            ]
          },
          "metadata": {},
          "execution_count": 18
        }
      ]
    },
    {
      "cell_type": "code",
      "source": [
        "owned_by_someone_in_household = (31669/len(data_set2['TENURE']))*100\n",
        "rented = (23682/len(data_set2['TENURE']))*100\n",
        "occupied_without_rent = (8083/len(data_set2['TENURE']))*100\n",
        "n_a = (707/len(data_set2['TENURE']))*100\n",
        "print(f\"Status owned: {owned_by_someone_in_household}% , rented: {rented}%, Occupied without rent: {occupied_without_rent}%, n/a: {n_a}%\")\n"
      ],
      "metadata": {
        "id": "-6pX-zslUJYb",
        "colab": {
          "base_uri": "https://localhost:8080/"
        },
        "outputId": "06d8fc09-0eeb-4378-ead0-cfb3cbeb43a3"
      },
      "execution_count": 19,
      "outputs": [
        {
          "output_type": "stream",
          "name": "stdout",
          "text": [
            "Status owned: 49.37403532841708% , rented: 36.921781699692865%, Occupied without rent: 12.60192388643769%, n/a: 1.1022590854523628%\n"
          ]
        }
      ]
    },
    {
      "cell_type": "code",
      "source": [
        "data_set2['DBMISSRENT'].value_counts()"
      ],
      "metadata": {
        "id": "EfucVizuRNH3",
        "colab": {
          "base_uri": "https://localhost:8080/"
        },
        "outputId": "36b258a1-a7eb-4b57-e31b-5d2c7945c807"
      },
      "execution_count": 20,
      "outputs": [
        {
          "output_type": "execute_result",
          "data": {
            "text/plain": [
              "DBMISSRENT\n",
              "-6    40459\n",
              " 5    21244\n",
              " 1      685\n",
              " 3      677\n",
              "-9      621\n",
              " 2      406\n",
              " 4       49\n",
              "Name: count, dtype: int64"
            ]
          },
          "metadata": {},
          "execution_count": 20
        }
      ]
    },
    {
      "cell_type": "code",
      "source": [
        "sns.histplot(data_set2['DBMISSRENT'])"
      ],
      "metadata": {
        "id": "4fejKzKXYVWy",
        "colab": {
          "base_uri": "https://localhost:8080/",
          "height": 466
        },
        "outputId": "55214dff-e467-4301-cc13-4859fcbcc708"
      },
      "execution_count": 21,
      "outputs": [
        {
          "output_type": "execute_result",
          "data": {
            "text/plain": [
              "<Axes: xlabel='DBMISSRENT', ylabel='Count'>"
            ]
          },
          "metadata": {},
          "execution_count": 21
        },
        {
          "output_type": "display_data",
          "data": {
            "text/plain": [
              "<Figure size 640x480 with 1 Axes>"
            ],
            "image/png": "[encoded data removed]"
          },
          "metadata": {}
        }
      ]
    },
    {
      "cell_type": "markdown",
      "source": [
        "#House Hold Gender"
      ],
      "metadata": {
        "id": "mUmclVHfdby9"
      }
    },
    {
      "cell_type": "code",
      "source": [
        "data_set['HHSEX'].value_counts()"
      ],
      "metadata": {
        "id": "JcKrlnuM-SeR",
        "colab": {
          "base_uri": "https://localhost:8080/"
        },
        "outputId": "73540271-366c-441f-ed9e-d445e0bc62cb"
      },
      "execution_count": 22,
      "outputs": [
        {
          "output_type": "execute_result",
          "data": {
            "text/plain": [
              "HHSEX\n",
              " 2    28667\n",
              " 1    27391\n",
              "-6     8083\n",
              "Name: count, dtype: int64"
            ]
          },
          "metadata": {},
          "execution_count": 22
        }
      ]
    },
    {
      "cell_type": "code",
      "source": [
        "sns.histplot(data_set['HHSEX'])"
      ],
      "metadata": {
        "id": "OME8zjfHVbhy",
        "colab": {
          "base_uri": "https://localhost:8080/",
          "height": 471
        },
        "outputId": "fb9a594a-5baf-4bad-fd6c-a68fb6d5a2d1"
      },
      "execution_count": 23,
      "outputs": [
        {
          "output_type": "execute_result",
          "data": {
            "text/plain": [
              "<Axes: xlabel='HHSEX', ylabel='Count'>"
            ]
          },
          "metadata": {},
          "execution_count": 23
        },
        {
          "output_type": "display_data",
          "data": {
            "text/plain": [
              "<Figure size 640x480 with 1 Axes>"
            ],
            "image/png": "[encoded data removed]"
          },
          "metadata": {}
        }
      ]
    },
    {
      "cell_type": "markdown",
      "source": [
        "#Age Feature"
      ],
      "metadata": {
        "id": "TRwtFtRrXV1J"
      }
    },
    {
      "cell_type": "code",
      "source": [
        "ages = data_set['HHAGE'].value_counts()\n",
        "age_dict = ages.to_dict()\n",
        "categories = age_dict.keys()\n",
        "values = age_dict.values()\n",
        "plt.bar(categories,values)"
      ],
      "metadata": {
        "id": "B3FeUH6LDmvs",
        "colab": {
          "base_uri": "https://localhost:8080/",
          "height": 447
        },
        "outputId": "2d1f5302-57df-459a-ce06-ec8835c2d003"
      },
      "execution_count": 24,
      "outputs": [
        {
          "output_type": "execute_result",
          "data": {
            "text/plain": [
              "<BarContainer object of 68 artists>"
            ]
          },
          "metadata": {},
          "execution_count": 24
        },
        {
          "output_type": "display_data",
          "data": {
            "text/plain": [
              "<Figure size 640x480 with 1 Axes>"
            ],
            "image/png": "[encoded data removed]"
          },
          "metadata": {}
        }
      ]
    },
    {
      "cell_type": "code",
      "source": [
        "mean_age = data_set['HHAGE'].mean()\n",
        "indices = data_set['HHAGE'] < 0\n",
        "\n",
        "# Replace values less than 0 with the mean age\n",
        "data_set.loc[indices, 'HHAGE'] = mean_age\n",
        "data_set['HHAGE']"
      ],
      "metadata": {
        "id": "aOZLftpNurQ2",
        "colab": {
          "base_uri": "https://localhost:8080/"
        },
        "outputId": "1df611f1-6c45-4e0c-f2e1-beff27312eff"
      },
      "execution_count": 25,
      "outputs": [
        {
          "output_type": "execute_result",
          "data": {
            "text/plain": [
              "0        74.000000\n",
              "1        55.000000\n",
              "2        45.915888\n",
              "3        80.000000\n",
              "4        60.000000\n",
              "           ...    \n",
              "64136    45.915888\n",
              "64137    44.000000\n",
              "64138    45.915888\n",
              "64139    23.000000\n",
              "64140    27.000000\n",
              "Name: HHAGE, Length: 64141, dtype: float64"
            ]
          },
          "metadata": {},
          "execution_count": 25
        }
      ]
    },
    {
      "cell_type": "code",
      "source": [
        "data_set['HHAGE'].value_counts()"
      ],
      "metadata": {
        "id": "faqMk-j7Yxvj",
        "colab": {
          "base_uri": "https://localhost:8080/"
        },
        "outputId": "8fe95694-89e6-4ebd-9965-19d2a82a6963"
      },
      "execution_count": 26,
      "outputs": [
        {
          "output_type": "execute_result",
          "data": {
            "text/plain": [
              "HHAGE\n",
              "45.915888    8083\n",
              "80.000000    2140\n",
              "85.000000    1983\n",
              "65.000000    1151\n",
              "60.000000    1148\n",
              "             ... \n",
              "19.000000      86\n",
              "18.000000      32\n",
              "17.000000       5\n",
              "15.000000       5\n",
              "16.000000       4\n",
              "Name: count, Length: 68, dtype: int64"
            ]
          },
          "metadata": {},
          "execution_count": 26
        }
      ]
    },
    {
      "cell_type": "markdown",
      "source": [
        "#KIDS"
      ],
      "metadata": {
        "id": "vC1f0wCGdnM9"
      }
    },
    {
      "cell_type": "code",
      "source": [
        "data_set['HHOLDKIDS']"
      ],
      "metadata": {
        "id": "jXsXZrncxGyT",
        "colab": {
          "base_uri": "https://localhost:8080/"
        },
        "outputId": "22f16602-2c5f-4f69-e593-b61b40db5ca5"
      },
      "execution_count": 27,
      "outputs": [
        {
          "output_type": "execute_result",
          "data": {
            "text/plain": [
              "0        0\n",
              "1        0\n",
              "2       -6\n",
              "3        0\n",
              "4        0\n",
              "        ..\n",
              "64136   -6\n",
              "64137    0\n",
              "64138   -6\n",
              "64139    0\n",
              "64140    0\n",
              "Name: HHOLDKIDS, Length: 64141, dtype: int64"
            ]
          },
          "metadata": {},
          "execution_count": 27
        }
      ]
    },
    {
      "cell_type": "code",
      "source": [
        "data_set['HHOLDKIDS'].value_counts()"
      ],
      "metadata": {
        "id": "J2mUJpsTBBrg",
        "colab": {
          "base_uri": "https://localhost:8080/"
        },
        "outputId": "7c0d7e44-da52-424a-c9be-93ee07eb403e"
      },
      "execution_count": 28,
      "outputs": [
        {
          "output_type": "execute_result",
          "data": {
            "text/plain": [
              "HHOLDKIDS\n",
              " 0     44377\n",
              "-6      8083\n",
              " 1      6079\n",
              " 2      4002\n",
              " 3      1191\n",
              " 4       310\n",
              " 5        76\n",
              " 6        18\n",
              " 8         2\n",
              " 7         2\n",
              " 15        1\n",
              "Name: count, dtype: int64"
            ]
          },
          "metadata": {},
          "execution_count": 28
        }
      ]
    },
    {
      "cell_type": "code",
      "source": [
        "sns.histplot(data_set['HHOLDKIDS'])"
      ],
      "metadata": {
        "id": "fn_Fg58gN9yc",
        "colab": {
          "base_uri": "https://localhost:8080/",
          "height": 466
        },
        "outputId": "5757ba59-e66d-4ca5-d46e-23045fe5b471"
      },
      "execution_count": 29,
      "outputs": [
        {
          "output_type": "execute_result",
          "data": {
            "text/plain": [
              "<Axes: xlabel='HHOLDKIDS', ylabel='Count'>"
            ]
          },
          "metadata": {},
          "execution_count": 29
        },
        {
          "output_type": "display_data",
          "data": {
            "text/plain": [
              "<Figure size 640x480 with 1 Axes>"
            ],
            "image/png": "[encoded data removed]"
          },
          "metadata": {}
        }
      ]
    },
    {
      "cell_type": "markdown",
      "source": [
        "#Info on race"
      ],
      "metadata": {
        "id": "o0KGjuNcdsOy"
      }
    },
    {
      "cell_type": "code",
      "source": [
        "data_set['HHRACE'].value_counts()"
      ],
      "metadata": {
        "id": "VCSwug2Rlp4J",
        "colab": {
          "base_uri": "https://localhost:8080/"
        },
        "outputId": "81d4a4e9-6387-4910-9fc5-1d7f76825524"
      },
      "execution_count": 30,
      "outputs": [
        {
          "output_type": "execute_result",
          "data": {
            "text/plain": [
              "HHRACE\n",
              " 1     40968\n",
              " 2      9626\n",
              "-6      8083\n",
              " 4      3691\n",
              " 3       650\n",
              " 7       303\n",
              " 6       221\n",
              " 5       213\n",
              " 8       157\n",
              " 10       83\n",
              " 15       44\n",
              " 11       21\n",
              " 14       20\n",
              " 9        18\n",
              " 20       15\n",
              " 18       11\n",
              " 16        7\n",
              " 13        4\n",
              " 12        3\n",
              " 17        2\n",
              " 19        1\n",
              "Name: count, dtype: int64"
            ]
          },
          "metadata": {},
          "execution_count": 30
        }
      ]
    },
    {
      "cell_type": "code",
      "source": [
        "sns.histplot(data_set['HHRACE'])"
      ],
      "metadata": {
        "id": "gdAXQhPdObtf",
        "colab": {
          "base_uri": "https://localhost:8080/",
          "height": 466
        },
        "outputId": "934c45e8-e23b-49d8-8edc-9dc428c2f104"
      },
      "execution_count": 31,
      "outputs": [
        {
          "output_type": "execute_result",
          "data": {
            "text/plain": [
              "<Axes: xlabel='HHRACE', ylabel='Count'>"
            ]
          },
          "metadata": {},
          "execution_count": 31
        },
        {
          "output_type": "display_data",
          "data": {
            "text/plain": [
              "<Figure size 640x480 with 1 Axes>"
            ],
            "image/png": "[encoded data removed]"
          },
          "metadata": {}
        }
      ]
    },
    {
      "cell_type": "markdown",
      "source": [
        "#Identifying people who moved in the last 2 years"
      ],
      "metadata": {
        "id": "UI-O8POAZJa5"
      }
    },
    {
      "cell_type": "code",
      "source": [
        "sns.histplot(merged_dataset['RMHOOD'])"
      ],
      "metadata": {
        "id": "d4p1nGv9R_Nx",
        "colab": {
          "base_uri": "https://localhost:8080/",
          "height": 466
        },
        "outputId": "07f452a9-7929-481a-8ba9-e61c2fef9281"
      },
      "execution_count": 37,
      "outputs": [
        {
          "output_type": "execute_result",
          "data": {
            "text/plain": [
              "<Axes: xlabel='RMHOOD', ylabel='Count'>"
            ]
          },
          "metadata": {},
          "execution_count": 37
        },
        {
          "output_type": "display_data",
          "data": {
            "text/plain": [
              "<Figure size 640x480 with 1 Axes>"
            ],
            "image/png": "[encoded data removed]"
          },
          "metadata": {}
        }
      ]
    },
    {
      "cell_type": "code",
      "source": [
        "yeses =  4132\n",
        "nos = 7296\n",
        "total_resp = yeses + nos\n",
        "percent_of_yes = (yeses/total_resp)*100\n",
        "percent_of_nos = (nos/total_resp)*100\n",
        "print(f\"Yes: {percent_of_yes}%, No: {percent_of_nos}%\")\n"
      ],
      "metadata": {
        "id": "1JZ2q3H7ZShp",
        "colab": {
          "base_uri": "https://localhost:8080/"
        },
        "outputId": "cbfa6f5f-b75a-4566-e8cc-6c9f5abf42ed"
      },
      "execution_count": 33,
      "outputs": [
        {
          "output_type": "stream",
          "name": "stdout",
          "text": [
            "Yes: 36.15680784039202%, No: 63.84319215960797%\n"
          ]
        }
      ]
    },
    {
      "cell_type": "code",
      "source": [
        "s"
      ],
      "metadata": {
        "id": "ehjIRY7bTOKp"
      },
      "execution_count": null,
      "outputs": []
    },
    {
      "cell_type": "markdown",
      "source": [
        "#More Data Visualization"
      ],
      "metadata": {
        "id": "_uyfkfCyOFuz"
      }
    },
    {
      "cell_type": "code",
      "source": [
        "data_set2['VACANCY']"
      ],
      "metadata": {
        "id": "5nWH1YCDOM1k",
        "colab": {
          "base_uri": "https://localhost:8080/"
        },
        "outputId": "3280ebfb-c132-46a4-a237-1a95b5a04f95"
      },
      "execution_count": 34,
      "outputs": [
        {
          "output_type": "execute_result",
          "data": {
            "text/plain": [
              "0        -6\n",
              "1        -6\n",
              "2        10\n",
              "3        -6\n",
              "4        -6\n",
              "         ..\n",
              "64136    10\n",
              "64137    -6\n",
              "64138     3\n",
              "64139    -6\n",
              "64140    -6\n",
              "Name: VACANCY, Length: 64141, dtype: int64"
            ]
          },
          "metadata": {},
          "execution_count": 34
        }
      ]
    },
    {
      "cell_type": "code",
      "source": [
        "sns.histplot(data_set2['VACANCY'])"
      ],
      "metadata": {
        "id": "7qwduOAGOSrR",
        "colab": {
          "base_uri": "https://localhost:8080/",
          "height": 466
        },
        "outputId": "1e8c3709-fc3b-429b-d7d6-b626cfa779d4"
      },
      "execution_count": 35,
      "outputs": [
        {
          "output_type": "execute_result",
          "data": {
            "text/plain": [
              "<Axes: xlabel='VACANCY', ylabel='Count'>"
            ]
          },
          "metadata": {},
          "execution_count": 35
        },
        {
          "output_type": "display_data",
          "data": {
            "text/plain": [
              "<Figure size 640x480 with 1 Axes>"
            ],
            "image/png": "[encoded data removed]"
          },
          "metadata": {}
        }
      ]
    }
  ]
}